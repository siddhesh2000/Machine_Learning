{
  "nbformat": 4,
  "nbformat_minor": 0,
  "metadata": {
    "colab": {
      "name": "Churn_Modelling(for_bank).ipynb",
      "provenance": [],
      "collapsed_sections": [
        "MD1abBMizRCb",
        "hVXkTD9AzViQ",
        "8b9UQhzf0CBX",
        "jbMugB6X3ckG",
        "ctS46Onz3k4v",
        "hgAYJmvW3_jZ",
        "o1St4RLi4Tgo",
        "jEKyXkVk4ijJ",
        "RkV5eoN645dx",
        "jYIaKcf65-4o",
        "v2WZZ6d96Ksm",
        "RXQ_mEH662Ha",
        "XGGh3YaF7zMO",
        "FrsWALKK-DSw",
        "034A_wYu_R-p"
      ],
      "toc_visible": true
    },
    "kernelspec": {
      "name": "python3",
      "display_name": "Python 3"
    },
    "language_info": {
      "name": "python"
    }
  },
  "cells": [
    {
      "cell_type": "markdown",
      "metadata": {
        "id": "MD1abBMizRCb"
      },
      "source": [
        "# Import basic libraries"
      ]
    },
    {
      "cell_type": "code",
      "metadata": {
        "id": "QE9MSLq9zS3J"
      },
      "source": [
        "import numpy as np\n",
        "import pandas as pd\n",
        "import matplotlib.pyplot as plt\n",
        "import seaborn as sns"
      ],
      "execution_count": null,
      "outputs": []
    },
    {
      "cell_type": "markdown",
      "metadata": {
        "id": "hVXkTD9AzViQ"
      },
      "source": [
        "#  Load dataset"
      ]
    },
    {
      "cell_type": "code",
      "metadata": {
        "id": "1i1AdUrezaPi"
      },
      "source": [
        "df=pd.read_csv('/content/drive/MyDrive/Machine_Learning_Projects/Churn_Modelling(1).csv')"
      ],
      "execution_count": null,
      "outputs": []
    },
    {
      "cell_type": "markdown",
      "metadata": {
        "id": "8b9UQhzf0CBX"
      },
      "source": [
        "# Preprocessing"
      ]
    },
    {
      "cell_type": "code",
      "metadata": {
        "colab": {
          "base_uri": "https://localhost:8080/",
          "height": 224
        },
        "id": "xVtU72jA0EXq",
        "outputId": "f219991b-4fd4-44a3-b2ca-bf88b0538c17"
      },
      "source": [
        "# To get first five records\n",
        "df.head()"
      ],
      "execution_count": null,
      "outputs": [
        {
          "output_type": "execute_result",
          "data": {
            "text/html": [
              "<div>\n",
              "<style scoped>\n",
              "    .dataframe tbody tr th:only-of-type {\n",
              "        vertical-align: middle;\n",
              "    }\n",
              "\n",
              "    .dataframe tbody tr th {\n",
              "        vertical-align: top;\n",
              "    }\n",
              "\n",
              "    .dataframe thead th {\n",
              "        text-align: right;\n",
              "    }\n",
              "</style>\n",
              "<table border=\"1\" class=\"dataframe\">\n",
              "  <thead>\n",
              "    <tr style=\"text-align: right;\">\n",
              "      <th></th>\n",
              "      <th>RowNumber</th>\n",
              "      <th>CustomerId</th>\n",
              "      <th>Surname</th>\n",
              "      <th>CreditScore</th>\n",
              "      <th>Geography</th>\n",
              "      <th>Gender</th>\n",
              "      <th>Age</th>\n",
              "      <th>Tenure</th>\n",
              "      <th>Balance</th>\n",
              "      <th>NumOfProducts</th>\n",
              "      <th>HasCrCard</th>\n",
              "      <th>IsActiveMember</th>\n",
              "      <th>EstimatedSalary</th>\n",
              "      <th>Exited</th>\n",
              "    </tr>\n",
              "  </thead>\n",
              "  <tbody>\n",
              "    <tr>\n",
              "      <th>0</th>\n",
              "      <td>1</td>\n",
              "      <td>15634602</td>\n",
              "      <td>Hargrave</td>\n",
              "      <td>619</td>\n",
              "      <td>France</td>\n",
              "      <td>Female</td>\n",
              "      <td>42</td>\n",
              "      <td>2</td>\n",
              "      <td>0.00</td>\n",
              "      <td>1</td>\n",
              "      <td>1</td>\n",
              "      <td>1</td>\n",
              "      <td>101348.88</td>\n",
              "      <td>1</td>\n",
              "    </tr>\n",
              "    <tr>\n",
              "      <th>1</th>\n",
              "      <td>2</td>\n",
              "      <td>15647311</td>\n",
              "      <td>Hill</td>\n",
              "      <td>608</td>\n",
              "      <td>Spain</td>\n",
              "      <td>Female</td>\n",
              "      <td>41</td>\n",
              "      <td>1</td>\n",
              "      <td>83807.86</td>\n",
              "      <td>1</td>\n",
              "      <td>0</td>\n",
              "      <td>1</td>\n",
              "      <td>112542.58</td>\n",
              "      <td>0</td>\n",
              "    </tr>\n",
              "    <tr>\n",
              "      <th>2</th>\n",
              "      <td>3</td>\n",
              "      <td>15619304</td>\n",
              "      <td>Onio</td>\n",
              "      <td>502</td>\n",
              "      <td>France</td>\n",
              "      <td>Female</td>\n",
              "      <td>42</td>\n",
              "      <td>8</td>\n",
              "      <td>159660.80</td>\n",
              "      <td>3</td>\n",
              "      <td>1</td>\n",
              "      <td>0</td>\n",
              "      <td>113931.57</td>\n",
              "      <td>1</td>\n",
              "    </tr>\n",
              "    <tr>\n",
              "      <th>3</th>\n",
              "      <td>4</td>\n",
              "      <td>15701354</td>\n",
              "      <td>Boni</td>\n",
              "      <td>699</td>\n",
              "      <td>France</td>\n",
              "      <td>Female</td>\n",
              "      <td>39</td>\n",
              "      <td>1</td>\n",
              "      <td>0.00</td>\n",
              "      <td>2</td>\n",
              "      <td>0</td>\n",
              "      <td>0</td>\n",
              "      <td>93826.63</td>\n",
              "      <td>0</td>\n",
              "    </tr>\n",
              "    <tr>\n",
              "      <th>4</th>\n",
              "      <td>5</td>\n",
              "      <td>15737888</td>\n",
              "      <td>Mitchell</td>\n",
              "      <td>850</td>\n",
              "      <td>Spain</td>\n",
              "      <td>Female</td>\n",
              "      <td>43</td>\n",
              "      <td>2</td>\n",
              "      <td>125510.82</td>\n",
              "      <td>1</td>\n",
              "      <td>1</td>\n",
              "      <td>1</td>\n",
              "      <td>79084.10</td>\n",
              "      <td>0</td>\n",
              "    </tr>\n",
              "  </tbody>\n",
              "</table>\n",
              "</div>"
            ],
            "text/plain": [
              "   RowNumber  CustomerId   Surname  ...  IsActiveMember EstimatedSalary Exited\n",
              "0          1    15634602  Hargrave  ...               1       101348.88      1\n",
              "1          2    15647311      Hill  ...               1       112542.58      0\n",
              "2          3    15619304      Onio  ...               0       113931.57      1\n",
              "3          4    15701354      Boni  ...               0        93826.63      0\n",
              "4          5    15737888  Mitchell  ...               1        79084.10      0\n",
              "\n",
              "[5 rows x 14 columns]"
            ]
          },
          "metadata": {
            "tags": []
          },
          "execution_count": 5
        }
      ]
    },
    {
      "cell_type": "code",
      "metadata": {
        "colab": {
          "base_uri": "https://localhost:8080/"
        },
        "id": "iyrrrsiu0Jio",
        "outputId": "7707ae2c-1613-4119-9f37-79d79ad699b4"
      },
      "source": [
        "# To get number of Rows & Columns\n",
        "df.shape"
      ],
      "execution_count": null,
      "outputs": [
        {
          "output_type": "execute_result",
          "data": {
            "text/plain": [
              "(10000, 14)"
            ]
          },
          "metadata": {
            "tags": []
          },
          "execution_count": 6
        }
      ]
    },
    {
      "cell_type": "code",
      "metadata": {
        "colab": {
          "base_uri": "https://localhost:8080/"
        },
        "id": "w23HQ1SX0QGv",
        "outputId": "8857eee0-8861-4681-dd5e-b12298cb7cfb"
      },
      "source": [
        "# To get properties of dataset\n",
        "df.info()"
      ],
      "execution_count": null,
      "outputs": [
        {
          "output_type": "stream",
          "text": [
            "<class 'pandas.core.frame.DataFrame'>\n",
            "RangeIndex: 10000 entries, 0 to 9999\n",
            "Data columns (total 14 columns):\n",
            " #   Column           Non-Null Count  Dtype  \n",
            "---  ------           --------------  -----  \n",
            " 0   RowNumber        10000 non-null  int64  \n",
            " 1   CustomerId       10000 non-null  int64  \n",
            " 2   Surname          10000 non-null  object \n",
            " 3   CreditScore      10000 non-null  int64  \n",
            " 4   Geography        10000 non-null  object \n",
            " 5   Gender           10000 non-null  object \n",
            " 6   Age              10000 non-null  int64  \n",
            " 7   Tenure           10000 non-null  int64  \n",
            " 8   Balance          10000 non-null  float64\n",
            " 9   NumOfProducts    10000 non-null  int64  \n",
            " 10  HasCrCard        10000 non-null  int64  \n",
            " 11  IsActiveMember   10000 non-null  int64  \n",
            " 12  EstimatedSalary  10000 non-null  float64\n",
            " 13  Exited           10000 non-null  int64  \n",
            "dtypes: float64(2), int64(9), object(3)\n",
            "memory usage: 1.1+ MB\n"
          ],
          "name": "stdout"
        }
      ]
    },
    {
      "cell_type": "code",
      "metadata": {
        "colab": {
          "base_uri": "https://localhost:8080/",
          "height": 395
        },
        "id": "0MxtSf0e0QJD",
        "outputId": "39789796-a376-4f44-b920-1ba4ae6f43ee"
      },
      "source": [
        "# Visulization of null values by using Heatmap\n",
        "plt.figure(figsize=(15,5))\n",
        "sns.heatmap(df.isnull())\n",
        "plt.show()"
      ],
      "execution_count": null,
      "outputs": [
        {
          "output_type": "display_data",
          "data": {
            "image/png": "[encoded data removed]",
            "text/plain": [
              "<Figure size 1080x360 with 2 Axes>"
            ]
          },
          "metadata": {
            "tags": [],
            "needs_background": "light"
          }
        }
      ]
    },
    {
      "cell_type": "code",
      "metadata": {
        "colab": {
          "base_uri": "https://localhost:8080/"
        },
        "id": "A5c2_Wa_0QMu",
        "outputId": "73bde856-afb4-4338-8831-bd954c77117f"
      },
      "source": [
        "# Null values in %\n",
        "df.isnull().sum()/df.shape[0]*100"
      ],
      "execution_count": null,
      "outputs": [
        {
          "output_type": "execute_result",
          "data": {
            "text/plain": [
              "RowNumber          0.0\n",
              "CustomerId         0.0\n",
              "Surname            0.0\n",
              "CreditScore        0.0\n",
              "Geography          0.0\n",
              "Gender             0.0\n",
              "Age                0.0\n",
              "Tenure             0.0\n",
              "Balance            0.0\n",
              "NumOfProducts      0.0\n",
              "HasCrCard          0.0\n",
              "IsActiveMember     0.0\n",
              "EstimatedSalary    0.0\n",
              "Exited             0.0\n",
              "dtype: float64"
            ]
          },
          "metadata": {
            "tags": []
          },
          "execution_count": 9
        }
      ]
    },
    {
      "cell_type": "code",
      "metadata": {
        "id": "u5KO7JYK0QPq"
      },
      "source": [
        "# Machine only knows numerical figures.\n",
        "# In this dataset we have categorical(\"strings\") values also.\n",
        "# so we need to convert them into numerical values.\n",
        "# For convertion form categorical values to Numerical values we need to have segrigate such values and put into \n",
        "# diffrent diffrent data frames.\n",
        "df_cat=df.select_dtypes('object') \n",
        "df_num=df.select_dtypes(['int64','float64']) "
      ],
      "execution_count": null,
      "outputs": []
    },
    {
      "cell_type": "code",
      "metadata": {
        "id": "15cYZiWZ0eTr"
      },
      "source": [
        "# Convertion of categorical values to Numerical values.\n",
        "# we have two methods for such process:\n",
        "# 1] LabelEncoder\n",
        "# 2] One Hot Encoder\n",
        "# Here we will used LabelEncoder\n",
        "from sklearn.preprocessing import LabelEncoder\n",
        "import warnings\n",
        "warnings.filterwarnings('ignore')\n",
        "le=LabelEncoder()\n",
        "for col in df_cat:\n",
        "  df_cat[col]=le.fit_transform(df_cat[col])"
      ],
      "execution_count": null,
      "outputs": []
    },
    {
      "cell_type": "code",
      "metadata": {
        "colab": {
          "base_uri": "https://localhost:8080/"
        },
        "id": "uWTJzeaS0mCV",
        "outputId": "72520e6d-b7f6-45c5-ed89-64fcaf71ea9a"
      },
      "source": [
        "# check LabelEncoder method applicable or not\n",
        "df_cat.info()"
      ],
      "execution_count": null,
      "outputs": [
        {
          "output_type": "stream",
          "text": [
            "<class 'pandas.core.frame.DataFrame'>\n",
            "RangeIndex: 10000 entries, 0 to 9999\n",
            "Data columns (total 3 columns):\n",
            " #   Column     Non-Null Count  Dtype\n",
            "---  ------     --------------  -----\n",
            " 0   Surname    10000 non-null  int64\n",
            " 1   Geography  10000 non-null  int64\n",
            " 2   Gender     10000 non-null  int64\n",
            "dtypes: int64(3)\n",
            "memory usage: 234.5 KB\n"
          ],
          "name": "stdout"
        }
      ]
    },
    {
      "cell_type": "code",
      "metadata": {
        "id": "a4cIX10C0mEU"
      },
      "source": [
        "# Crete new data frame by concating categorical & numerical dataframe\n",
        "new_df=pd.concat([df_num,df_cat],axis=1)"
      ],
      "execution_count": null,
      "outputs": []
    },
    {
      "cell_type": "code",
      "metadata": {
        "colab": {
          "base_uri": "https://localhost:8080/",
          "height": 224
        },
        "id": "gd_NAQ4p0mIT",
        "outputId": "2a1e070c-3f5e-4e9f-9557-45f08a2aa478"
      },
      "source": [
        "# Check new data frame\n",
        "new_df.head()"
      ],
      "execution_count": null,
      "outputs": [
        {
          "output_type": "execute_result",
          "data": {
            "text/html": [
              "<div>\n",
              "<style scoped>\n",
              "    .dataframe tbody tr th:only-of-type {\n",
              "        vertical-align: middle;\n",
              "    }\n",
              "\n",
              "    .dataframe tbody tr th {\n",
              "        vertical-align: top;\n",
              "    }\n",
              "\n",
              "    .dataframe thead th {\n",
              "        text-align: right;\n",
              "    }\n",
              "</style>\n",
              "<table border=\"1\" class=\"dataframe\">\n",
              "  <thead>\n",
              "    <tr style=\"text-align: right;\">\n",
              "      <th></th>\n",
              "      <th>RowNumber</th>\n",
              "      <th>CustomerId</th>\n",
              "      <th>CreditScore</th>\n",
              "      <th>Age</th>\n",
              "      <th>Tenure</th>\n",
              "      <th>Balance</th>\n",
              "      <th>NumOfProducts</th>\n",
              "      <th>HasCrCard</th>\n",
              "      <th>IsActiveMember</th>\n",
              "      <th>EstimatedSalary</th>\n",
              "      <th>Exited</th>\n",
              "      <th>Surname</th>\n",
              "      <th>Geography</th>\n",
              "      <th>Gender</th>\n",
              "    </tr>\n",
              "  </thead>\n",
              "  <tbody>\n",
              "    <tr>\n",
              "      <th>0</th>\n",
              "      <td>1</td>\n",
              "      <td>15634602</td>\n",
              "      <td>619</td>\n",
              "      <td>42</td>\n",
              "      <td>2</td>\n",
              "      <td>0.00</td>\n",
              "      <td>1</td>\n",
              "      <td>1</td>\n",
              "      <td>1</td>\n",
              "      <td>101348.88</td>\n",
              "      <td>1</td>\n",
              "      <td>1115</td>\n",
              "      <td>0</td>\n",
              "      <td>0</td>\n",
              "    </tr>\n",
              "    <tr>\n",
              "      <th>1</th>\n",
              "      <td>2</td>\n",
              "      <td>15647311</td>\n",
              "      <td>608</td>\n",
              "      <td>41</td>\n",
              "      <td>1</td>\n",
              "      <td>83807.86</td>\n",
              "      <td>1</td>\n",
              "      <td>0</td>\n",
              "      <td>1</td>\n",
              "      <td>112542.58</td>\n",
              "      <td>0</td>\n",
              "      <td>1177</td>\n",
              "      <td>2</td>\n",
              "      <td>0</td>\n",
              "    </tr>\n",
              "    <tr>\n",
              "      <th>2</th>\n",
              "      <td>3</td>\n",
              "      <td>15619304</td>\n",
              "      <td>502</td>\n",
              "      <td>42</td>\n",
              "      <td>8</td>\n",
              "      <td>159660.80</td>\n",
              "      <td>3</td>\n",
              "      <td>1</td>\n",
              "      <td>0</td>\n",
              "      <td>113931.57</td>\n",
              "      <td>1</td>\n",
              "      <td>2040</td>\n",
              "      <td>0</td>\n",
              "      <td>0</td>\n",
              "    </tr>\n",
              "    <tr>\n",
              "      <th>3</th>\n",
              "      <td>4</td>\n",
              "      <td>15701354</td>\n",
              "      <td>699</td>\n",
              "      <td>39</td>\n",
              "      <td>1</td>\n",
              "      <td>0.00</td>\n",
              "      <td>2</td>\n",
              "      <td>0</td>\n",
              "      <td>0</td>\n",
              "      <td>93826.63</td>\n",
              "      <td>0</td>\n",
              "      <td>289</td>\n",
              "      <td>0</td>\n",
              "      <td>0</td>\n",
              "    </tr>\n",
              "    <tr>\n",
              "      <th>4</th>\n",
              "      <td>5</td>\n",
              "      <td>15737888</td>\n",
              "      <td>850</td>\n",
              "      <td>43</td>\n",
              "      <td>2</td>\n",
              "      <td>125510.82</td>\n",
              "      <td>1</td>\n",
              "      <td>1</td>\n",
              "      <td>1</td>\n",
              "      <td>79084.10</td>\n",
              "      <td>0</td>\n",
              "      <td>1822</td>\n",
              "      <td>2</td>\n",
              "      <td>0</td>\n",
              "    </tr>\n",
              "  </tbody>\n",
              "</table>\n",
              "</div>"
            ],
            "text/plain": [
              "   RowNumber  CustomerId  CreditScore  Age  ...  Exited  Surname  Geography  Gender\n",
              "0          1    15634602          619   42  ...       1     1115          0       0\n",
              "1          2    15647311          608   41  ...       0     1177          2       0\n",
              "2          3    15619304          502   42  ...       1     2040          0       0\n",
              "3          4    15701354          699   39  ...       0      289          0       0\n",
              "4          5    15737888          850   43  ...       0     1822          2       0\n",
              "\n",
              "[5 rows x 14 columns]"
            ]
          },
          "metadata": {
            "tags": []
          },
          "execution_count": 14
        }
      ]
    },
    {
      "cell_type": "code",
      "metadata": {
        "id": "CTo4zzhM0yMF"
      },
      "source": [
        "# Drop unwanted Column\n",
        "new_df.drop(['RowNumber','CustomerId'],axis=1,inplace=True) \n",
        "\n",
        " "
      ],
      "execution_count": null,
      "outputs": []
    },
    {
      "cell_type": "code",
      "metadata": {
        "id": "6hxu-4Xg0yN4"
      },
      "source": [
        "# check Unwanted column drop or not\n",
        "new_df.head()"
      ],
      "execution_count": null,
      "outputs": []
    },
    {
      "cell_type": "code",
      "metadata": {
        "colab": {
          "base_uri": "https://localhost:8080/"
        },
        "id": "bTFtp3hE0yRx",
        "outputId": "4220e429-32e6-45fc-92ab-25ae4842b1a6"
      },
      "source": [
        "new_df.shape"
      ],
      "execution_count": null,
      "outputs": [
        {
          "output_type": "execute_result",
          "data": {
            "text/plain": [
              "(10000, 14)"
            ]
          },
          "metadata": {
            "tags": []
          },
          "execution_count": 16
        }
      ]
    },
    {
      "cell_type": "code",
      "metadata": {
        "id": "p7mYevve079E"
      },
      "source": [
        ""
      ],
      "execution_count": null,
      "outputs": []
    },
    {
      "cell_type": "markdown",
      "metadata": {
        "id": "MMhBvCHL1WYj"
      },
      "source": [
        "# Checking correlationship between input & Output data"
      ]
    },
    {
      "cell_type": "markdown",
      "metadata": {
        "id": "jbMugB6X3ckG"
      },
      "source": [
        "# By Using Barplot"
      ]
    },
    {
      "cell_type": "code",
      "metadata": {
        "colab": {
          "base_uri": "https://localhost:8080/",
          "height": 408
        },
        "id": "4DAEafyE1k7Q",
        "outputId": "b7274f2f-916d-4c21-d72a-5b2fbf090f67"
      },
      "source": [
        "# By using Barplot\n",
        "new_df2=new_df.drop('Exited',axis=1)\n",
        "new_df2.corrwith(new_df[\"Exited\"]).plot.bar(figsize=(15,5),title=\"Correlationship with Exited\",grid=True,rot=45)"
      ],
      "execution_count": null,
      "outputs": [
        {
          "output_type": "execute_result",
          "data": {
            "text/plain": [
              "<matplotlib.axes._subplots.AxesSubplot at 0x7ff5e17a1250>"
            ]
          },
          "metadata": {
            "tags": []
          },
          "execution_count": 24
        },
        {
          "output_type": "display_data",
          "data": {
            "image/png": "[encoded data removed]",
            "text/plain": [
              "<Figure size 1080x360 with 1 Axes>"
            ]
          },
          "metadata": {
            "tags": [],
            "needs_background": "light"
          }
        }
      ]
    },
    {
      "cell_type": "markdown",
      "metadata": {
        "id": "ctS46Onz3k4v"
      },
      "source": [
        "# By Using Heatmap"
      ]
    },
    {
      "cell_type": "code",
      "metadata": {
        "colab": {
          "base_uri": "https://localhost:8080/",
          "height": 395
        },
        "id": "75seienz3Dm_",
        "outputId": "fabf0a09-d0f4-40c0-cccf-e710a36851b4"
      },
      "source": [
        "# BY using heatmap\n",
        "plt.figure(figsize=(15,5))\n",
        "sns.heatmap(data=new_df.corr(),annot=True)\n",
        "plt.show()"
      ],
      "execution_count": null,
      "outputs": [
        {
          "output_type": "display_data",
          "data": {
            "image/png": "[encoded data removed]",
            "text/plain": [
              "<Figure size 1080x360 with 2 Axes>"
            ]
          },
          "metadata": {
            "tags": [],
            "needs_background": "light"
          }
        }
      ]
    },
    {
      "cell_type": "markdown",
      "metadata": {
        "id": "hgAYJmvW3_jZ"
      },
      "source": [
        "# Spliting of data into X & Y"
      ]
    },
    {
      "cell_type": "code",
      "metadata": {
        "id": "F9_wu0-k4BSN"
      },
      "source": [
        "x=new_df.drop('Exited',axis=1)\n",
        "y=new_df['Exited']"
      ],
      "execution_count": null,
      "outputs": []
    },
    {
      "cell_type": "markdown",
      "metadata": {
        "id": "o1St4RLi4Tgo"
      },
      "source": [
        "# Divide data for train(80%) & Test(20%)"
      ]
    },
    {
      "cell_type": "code",
      "metadata": {
        "id": "WNS7ZsQj4Y4M"
      },
      "source": [
        "from sklearn.model_selection import train_test_split"
      ],
      "execution_count": null,
      "outputs": []
    },
    {
      "cell_type": "code",
      "metadata": {
        "id": "NysRe28v4c6J"
      },
      "source": [
        "x_train,x_test,y_train,y_test=train_test_split(x,y,random_state=0,test_size=0.2)"
      ],
      "execution_count": null,
      "outputs": []
    },
    {
      "cell_type": "markdown",
      "metadata": {
        "id": "jEKyXkVk4ijJ"
      },
      "source": [
        "#  Scalling input data"
      ]
    },
    {
      "cell_type": "code",
      "metadata": {
        "id": "14bh8QdA4mA4"
      },
      "source": [
        "# There are two types of Scalling of data:\n",
        "# 1] MinMax Scaller\n",
        "# 2] Standard Scaller\n",
        "# We will apply Standard Scaler to Scale our data set\n",
        "from sklearn.preprocessing import StandardScaler\n",
        "ss=StandardScaler()\n",
        "x_train=ss.fit_transform(x_train)\n",
        "x_test=ss.transform(x_test)"
      ],
      "execution_count": null,
      "outputs": []
    },
    {
      "cell_type": "code",
      "metadata": {
        "colab": {
          "base_uri": "https://localhost:8080/"
        },
        "id": "O_7l6kGI4rWX",
        "outputId": "f2470cdb-78c7-44fc-b047-e8254c2aa793"
      },
      "source": [
        "x_train"
      ],
      "execution_count": null,
      "outputs": [
        {
          "output_type": "execute_result",
          "data": {
            "text/plain": [
              "array([[ 0.16958176, -0.46460796,  0.00666099, ...,  0.36808204,\n",
              "         1.51919821, -1.09168714],\n",
              "       [-2.30455945,  0.30102557, -1.37744033, ..., -1.28969918,\n",
              "         0.3131264 ,  0.91601335],\n",
              "       [-1.19119591, -0.94312892, -1.031415  , ...,  0.39287791,\n",
              "        -0.89294542, -1.09168714],\n",
              "       ...,\n",
              "       [ 0.9015152 , -0.36890377,  0.00666099, ..., -0.35926357,\n",
              "        -0.89294542,  0.91601335],\n",
              "       [-0.62420521, -0.08179119,  1.39076231, ...,  0.72703182,\n",
              "         1.51919821, -1.09168714],\n",
              "       [-0.28401079,  0.87525072, -1.37744033, ...,  1.38353208,\n",
              "         0.3131264 , -1.09168714]])"
            ]
          },
          "metadata": {
            "tags": []
          },
          "execution_count": 30
        }
      ]
    },
    {
      "cell_type": "code",
      "metadata": {
        "colab": {
          "base_uri": "https://localhost:8080/"
        },
        "id": "nWXzGLd64w0p",
        "outputId": "c3e63166-8f6b-400d-b29d-cfe812d492ad"
      },
      "source": [
        "x_test"
      ],
      "execution_count": null,
      "outputs": [
        {
          "output_type": "execute_result",
          "data": {
            "text/plain": [
              "array([[-0.55204276, -0.36890377,  1.04473698, ...,  1.3988819 ,\n",
              "         0.3131264 , -1.09168714],\n",
              "       [-1.31490297,  0.10961719, -1.031415  , ..., -0.77961265,\n",
              "        -0.89294542, -1.09168714],\n",
              "       [ 0.57162971,  0.30102557,  1.04473698, ...,  0.41413152,\n",
              "         1.51919821, -1.09168714],\n",
              "       ...,\n",
              "       [-0.74791227, -0.27319958, -1.37744033, ..., -1.19760022,\n",
              "         1.51919821,  0.91601335],\n",
              "       [-0.00566991, -0.46460796, -0.33936434, ..., -1.34047168,\n",
              "         0.3131264 ,  0.91601335],\n",
              "       [-0.79945688, -0.84742473,  1.04473698, ...,  0.51331501,\n",
              "         0.3131264 ,  0.91601335]])"
            ]
          },
          "metadata": {
            "tags": []
          },
          "execution_count": 31
        }
      ]
    },
    {
      "cell_type": "code",
      "metadata": {
        "id": "A26bBUch4zVA"
      },
      "source": [
        ""
      ],
      "execution_count": null,
      "outputs": []
    },
    {
      "cell_type": "markdown",
      "metadata": {
        "id": "RkV5eoN645dx"
      },
      "source": [
        "# Balancing of Output data"
      ]
    },
    {
      "cell_type": "code",
      "metadata": {
        "colab": {
          "base_uri": "https://localhost:8080/",
          "height": 361
        },
        "id": "ncojWrgd4687",
        "outputId": "91c651b4-ce91-418f-c572-192822c1b4d2"
      },
      "source": [
        "#  Visualiztion of Output by using countplot\n",
        "plt.figure(figsize=(15,5.5))\n",
        "sns.countplot(data=new_df,x='Exited') \n",
        "plt.yticks(new_df['Exited'].value_counts())\n",
        "plt.show()"
      ],
      "execution_count": null,
      "outputs": [
        {
          "output_type": "display_data",
          "data": {
            "image/png": "[encoded data removed]",
            "text/plain": [
              "<Figure size 1080x396 with 1 Axes>"
            ]
          },
          "metadata": {
            "tags": [],
            "needs_background": "light"
          }
        }
      ]
    },
    {
      "cell_type": "code",
      "metadata": {
        "colab": {
          "base_uri": "https://localhost:8080/"
        },
        "id": "DIsBauUw5B3J",
        "outputId": "7d45024e-33d7-40dc-d6ac-9adf7deb7a01"
      },
      "source": [
        "# Checking of output data in figures\n",
        "pd.Series(y_train).value_counts()\n"
      ],
      "execution_count": null,
      "outputs": [
        {
          "output_type": "execute_result",
          "data": {
            "text/plain": [
              "0    6368\n",
              "1    1632\n",
              "Name: Exited, dtype: int64"
            ]
          },
          "metadata": {
            "tags": []
          },
          "execution_count": 36
        }
      ]
    },
    {
      "cell_type": "code",
      "metadata": {
        "colab": {
          "base_uri": "https://localhost:8080/"
        },
        "id": "pyqEldW35Vie",
        "outputId": "0c8eb925-50d6-4e79-8ee8-fdf10d69652b"
      },
      "source": [
        "pd.Series(y_test).value_counts()"
      ],
      "execution_count": null,
      "outputs": [
        {
          "output_type": "execute_result",
          "data": {
            "text/plain": [
              "0    1595\n",
              "1     405\n",
              "Name: Exited, dtype: int64"
            ]
          },
          "metadata": {
            "tags": []
          },
          "execution_count": 37
        }
      ]
    },
    {
      "cell_type": "code",
      "metadata": {
        "id": "U6v211rt5cD2"
      },
      "source": [
        "# by looking above two table its clearly indicating that output data is imbalance.\n",
        "# here we need to balance output data,for this we have two methods:\n",
        "# 1] Randomoversampling\n",
        "# 2] Randomundersampling\n",
        "# Here we will apply RandomOverSampling\n",
        "from imblearn.over_sampling import RandomOverSampler\n",
        "ros=RandomOverSampler()\n",
        "x_train_sample,y_train_sample=ros.fit_resample(x_train,y_train)\n",
        "x_test_sample,y_test_sample=ros.fit_resample(x_test,y_test)"
      ],
      "execution_count": null,
      "outputs": []
    },
    {
      "cell_type": "code",
      "metadata": {
        "colab": {
          "base_uri": "https://localhost:8080/"
        },
        "id": "3lAjgKO85hVg",
        "outputId": "e830e211-ab00-4be8-9fe0-ad17ca1bfd18"
      },
      "source": [
        "# Verifying sampling metod apply or not\n",
        "pd.Series(y_train_sample).value_counts()"
      ],
      "execution_count": null,
      "outputs": [
        {
          "output_type": "execute_result",
          "data": {
            "text/plain": [
              "1    6368\n",
              "0    6368\n",
              "dtype: int64"
            ]
          },
          "metadata": {
            "tags": []
          },
          "execution_count": 39
        }
      ]
    },
    {
      "cell_type": "code",
      "metadata": {
        "colab": {
          "base_uri": "https://localhost:8080/"
        },
        "id": "Bya1CWTC51Du",
        "outputId": "2ecff57e-7923-4ea9-fdaf-e965478cb8cc"
      },
      "source": [
        "pd.Series(y_test_sample).value_counts()"
      ],
      "execution_count": null,
      "outputs": [
        {
          "output_type": "execute_result",
          "data": {
            "text/plain": [
              "1    1595\n",
              "0    1595\n",
              "dtype: int64"
            ]
          },
          "metadata": {
            "tags": []
          },
          "execution_count": 40
        }
      ]
    },
    {
      "cell_type": "markdown",
      "metadata": {
        "id": "jYIaKcf65-4o"
      },
      "source": [
        "#Training a Model"
      ]
    },
    {
      "cell_type": "code",
      "metadata": {
        "id": "zfXRpMGl55ry"
      },
      "source": [
        "# Create user define function\n",
        "def create_model(model):\n",
        "  model.fit(x_train_sample,y_train_sample)\n",
        "  y_pred=model.predict(x_test_sample)\n",
        "  print(classification_report(y_test_sample,y_pred))\n",
        "  print(confusion_matrix(y_test_sample,y_pred))\n",
        "  return model"
      ],
      "execution_count": null,
      "outputs": []
    },
    {
      "cell_type": "code",
      "metadata": {
        "id": "AnBOh0sF580l"
      },
      "source": [
        ""
      ],
      "execution_count": null,
      "outputs": []
    },
    {
      "cell_type": "markdown",
      "metadata": {
        "id": "v2WZZ6d96Ksm"
      },
      "source": [
        "# 1] Logistic Regression (Base model)"
      ]
    },
    {
      "cell_type": "code",
      "metadata": {
        "colab": {
          "base_uri": "https://localhost:8080/"
        },
        "id": "JbYDAPzf583b",
        "outputId": "779d7400-2d4a-4e45-b654-237a07d34b8f"
      },
      "source": [
        "from sklearn.linear_model import LogisticRegression\n",
        "from sklearn.metrics import classification_report,confusion_matrix\n",
        "lr=LogisticRegression()\n",
        "lr=create_model(lr)"
      ],
      "execution_count": null,
      "outputs": [
        {
          "output_type": "stream",
          "text": [
            "              precision    recall  f1-score   support\n",
            "\n",
            "           0       0.71      0.69      0.70      1595\n",
            "           1       0.70      0.72      0.71      1595\n",
            "\n",
            "    accuracy                           0.71      3190\n",
            "   macro avg       0.71      0.71      0.71      3190\n",
            "weighted avg       0.71      0.71      0.71      3190\n",
            "\n",
            "[[1107  488]\n",
            " [ 447 1148]]\n"
          ],
          "name": "stdout"
        }
      ]
    },
    {
      "cell_type": "code",
      "metadata": {
        "colab": {
          "base_uri": "https://localhost:8080/"
        },
        "id": "EUYobocZ586b",
        "outputId": "fb919f5b-34fd-48af-e07d-a3cfdc6ed4c7"
      },
      "source": [
        "# Cross Validation \n",
        "from sklearn.model_selection import cross_val_score\n",
        "accuracy=cross_val_score(estimator=lr,X=x_train_sample,y=y_train_sample,cv=3)\n",
        "print(\"Accuracy is :\",accuracy.mean()*100)"
      ],
      "execution_count": null,
      "outputs": [
        {
          "output_type": "stream",
          "text": [
            "Accuracy is : 69.08762463056757\n"
          ],
          "name": "stdout"
        }
      ]
    },
    {
      "cell_type": "code",
      "metadata": {
        "id": "7KxLrQbI59Rh"
      },
      "source": [
        ""
      ],
      "execution_count": null,
      "outputs": []
    },
    {
      "cell_type": "markdown",
      "metadata": {
        "id": "RXQ_mEH662Ha"
      },
      "source": [
        "# 2]RandomForestClassifier(Ensemble Technique)"
      ]
    },
    {
      "cell_type": "code",
      "metadata": {
        "colab": {
          "base_uri": "https://localhost:8080/"
        },
        "id": "DdelF8g-59Ul",
        "outputId": "9e753bf7-9b5b-4b99-a697-46384d2e407c"
      },
      "source": [
        "from sklearn.ensemble import RandomForestClassifier\n",
        "rfc=RandomForestClassifier(n_estimators=100,max_features=10,random_state=0)\n",
        "rfc=create_model(rfc)"
      ],
      "execution_count": null,
      "outputs": [
        {
          "output_type": "stream",
          "text": [
            "              precision    recall  f1-score   support\n",
            "\n",
            "           0       0.67      0.91      0.78      1595\n",
            "           1       0.87      0.56      0.68      1595\n",
            "\n",
            "    accuracy                           0.74      3190\n",
            "   macro avg       0.77      0.74      0.73      3190\n",
            "weighted avg       0.77      0.74      0.73      3190\n",
            "\n",
            "[[1458  137]\n",
            " [ 708  887]]\n"
          ],
          "name": "stdout"
        }
      ]
    },
    {
      "cell_type": "code",
      "metadata": {
        "colab": {
          "base_uri": "https://localhost:8080/"
        },
        "id": "QXmSQI9u7FV2",
        "outputId": "f6e8c1ff-c89c-4435-cf71-9845341dac69"
      },
      "source": [
        "# Cross Validation \n",
        "from sklearn.model_selection import cross_val_score\n",
        "accuracy=cross_val_score(estimator=rfc,X=x_train_sample,y=y_train_sample,cv=3)\n",
        "print(\"Accuracy is :\",accuracy.mean()*100)"
      ],
      "execution_count": null,
      "outputs": [
        {
          "output_type": "stream",
          "text": [
            "Accuracy is : 94.33106583512121\n"
          ],
          "name": "stdout"
        }
      ]
    },
    {
      "cell_type": "code",
      "metadata": {
        "id": "XVsRUkcC7fzz"
      },
      "source": [
        ""
      ],
      "execution_count": null,
      "outputs": []
    },
    {
      "cell_type": "markdown",
      "metadata": {
        "id": "XGGh3YaF7zMO"
      },
      "source": [
        "# 3]XGBClassifier (Ensemble technique)"
      ]
    },
    {
      "cell_type": "code",
      "metadata": {
        "colab": {
          "base_uri": "https://localhost:8080/"
        },
        "id": "jSGMTiF98CRR",
        "outputId": "33c243e1-4c15-464b-c80a-c8a9c27ae57c"
      },
      "source": [
        "from xgboost import XGBClassifier\n",
        "xgb=XGBClassifier(n_estimtor=100,reg_alpha=1)\n",
        "xgb=create_model(xgb)"
      ],
      "execution_count": null,
      "outputs": [
        {
          "output_type": "stream",
          "text": [
            "              precision    recall  f1-score   support\n",
            "\n",
            "           0       0.77      0.79      0.78      1595\n",
            "           1       0.78      0.77      0.78      1595\n",
            "\n",
            "    accuracy                           0.78      3190\n",
            "   macro avg       0.78      0.78      0.78      3190\n",
            "weighted avg       0.78      0.78      0.78      3190\n",
            "\n",
            "[[1254  341]\n",
            " [ 370 1225]]\n"
          ],
          "name": "stdout"
        }
      ]
    },
    {
      "cell_type": "code",
      "metadata": {
        "colab": {
          "base_uri": "https://localhost:8080/"
        },
        "id": "7mFuP7zN8CVD",
        "outputId": "f2adc258-1980-4000-8682-c4c215c917d0"
      },
      "source": [
        "# Cross Validation \n",
        "from sklearn.model_selection import cross_val_score\n",
        "accuracy=cross_val_score(estimator=xgb,X=x_train_sample,y=y_train_sample,cv=3)\n",
        "print(\"Accuracy is :\",accuracy.mean()*100)"
      ],
      "execution_count": null,
      "outputs": [
        {
          "output_type": "stream",
          "text": [
            "Accuracy is : 78.90234112116606\n"
          ],
          "name": "stdout"
        }
      ]
    },
    {
      "cell_type": "code",
      "metadata": {
        "id": "RfQY3fj69dKP"
      },
      "source": [
        ""
      ],
      "execution_count": null,
      "outputs": []
    },
    {
      "cell_type": "markdown",
      "metadata": {
        "id": "FrsWALKK-DSw"
      },
      "source": [
        "# HyperParameter Tuning\n",
        "#  A hyperparameter is a parameter whose value is used to control the learning process. "
      ]
    },
    {
      "cell_type": "code",
      "metadata": {
        "id": "4LXpI5Bx-HKo"
      },
      "source": [
        "from sklearn.model_selection import RandomizedSearchCV"
      ],
      "execution_count": null,
      "outputs": []
    },
    {
      "cell_type": "code",
      "metadata": {
        "id": "5ACVzP0X-qYx"
      },
      "source": [
        "param={\n",
        "    'lerning_rate':[0.05,0.1,0.15,0.20,0.25,0.30],\n",
        "    'max_depth':[3,4,5,6,7,8,10,12,15],\n",
        "    'min_child_weight':[1,3,5,7],\n",
        "    'gamma':[0.0,0.1,0.2,0.3,0.4],\n",
        "    'colsample_bytree=1':[0.3,0.4,0.5,0.6]\n",
        "}"
      ],
      "execution_count": null,
      "outputs": []
    },
    {
      "cell_type": "code",
      "metadata": {
        "id": "zTNBhaW2-yOd"
      },
      "source": [
        "rsc=RandomizedSearchCV(estimator=xgb,param_distributions=param,n_iter=5,scoring='roc_auc',verbose=3,n_jobs=-1,cv=5)"
      ],
      "execution_count": null,
      "outputs": []
    },
    {
      "cell_type": "code",
      "metadata": {
        "colab": {
          "base_uri": "https://localhost:8080/"
        },
        "id": "QwkAUZMo-9YZ",
        "outputId": "ad1dd8a3-8fc4-4d03-88df-8a5becf9c60b"
      },
      "source": [
        "rsc.fit(x_train_sample,y_train_sample)"
      ],
      "execution_count": null,
      "outputs": [
        {
          "output_type": "stream",
          "text": [
            "Fitting 5 folds for each of 5 candidates, totalling 25 fits\n"
          ],
          "name": "stdout"
        },
        {
          "output_type": "stream",
          "text": [
            "[Parallel(n_jobs=-1)]: Using backend LokyBackend with 2 concurrent workers.\n",
            "[Parallel(n_jobs=-1)]: Done  25 out of  25 | elapsed:   29.2s finished\n"
          ],
          "name": "stderr"
        },
        {
          "output_type": "execute_result",
          "data": {
            "text/plain": [
              "RandomizedSearchCV(cv=5, error_score=nan,\n",
              "                   estimator=XGBClassifier(base_score=0.5, booster='gbtree',\n",
              "                                           colsample_bylevel=1,\n",
              "                                           colsample_bynode=1,\n",
              "                                           colsample_bytree=1, gamma=0,\n",
              "                                           learning_rate=0.1, max_delta_step=0,\n",
              "                                           max_depth=3, min_child_weight=1,\n",
              "                                           missing=None, n_estimators=100,\n",
              "                                           n_estimtor=100, n_jobs=1,\n",
              "                                           nthread=None,\n",
              "                                           objective='binary:logistic',\n",
              "                                           random_state=0, reg_alpha=1,...\n",
              "                                           verbosity=1),\n",
              "                   iid='deprecated', n_iter=5, n_jobs=-1,\n",
              "                   param_distributions={'colsample_bytree=1': [0.3, 0.4, 0.5,\n",
              "                                                               0.6],\n",
              "                                        'gamma': [0.0, 0.1, 0.2, 0.3, 0.4],\n",
              "                                        'lerning_rate': [0.05, 0.1, 0.15, 0.2,\n",
              "                                                         0.25, 0.3],\n",
              "                                        'max_depth': [3, 4, 5, 6, 7, 8, 10, 12,\n",
              "                                                      15],\n",
              "                                        'min_child_weight': [1, 3, 5, 7]},\n",
              "                   pre_dispatch='2*n_jobs', random_state=None, refit=True,\n",
              "                   return_train_score=False, scoring='roc_auc', verbose=3)"
            ]
          },
          "metadata": {
            "tags": []
          },
          "execution_count": 54
        }
      ]
    },
    {
      "cell_type": "code",
      "metadata": {
        "colab": {
          "base_uri": "https://localhost:8080/"
        },
        "id": "5QIVL7_v_CU-",
        "outputId": "62261148-596e-480e-c256-f415d2bc8f72"
      },
      "source": [
        "rsc.best_estimator_"
      ],
      "execution_count": null,
      "outputs": [
        {
          "output_type": "execute_result",
          "data": {
            "text/plain": [
              "XGBClassifier(base_score=0.5, booster='gbtree', colsample_bylevel=1,\n",
              "              colsample_bynode=1, colsample_bytree=1, colsample_bytree=1=0.4,\n",
              "              gamma=0.3, learning_rate=0.1, lerning_rate=0.1, max_delta_step=0,\n",
              "              max_depth=12, min_child_weight=1, missing=None, n_estimators=100,\n",
              "              n_estimtor=100, n_jobs=1, nthread=None,\n",
              "              objective='binary:logistic', random_state=0, reg_alpha=1,\n",
              "              reg_lambda=1, scale_pos_weight=1, seed=None, silent=None,\n",
              "              subsample=1, verbosity=1)"
            ]
          },
          "metadata": {
            "tags": []
          },
          "execution_count": 55
        }
      ]
    },
    {
      "cell_type": "code",
      "metadata": {
        "colab": {
          "base_uri": "https://localhost:8080/"
        },
        "id": "Pl3b_KC6_N-A",
        "outputId": "16084256-ae79-4867-ac0c-8f69b3943c1f"
      },
      "source": [
        "rsc.best_params_"
      ],
      "execution_count": null,
      "outputs": [
        {
          "output_type": "execute_result",
          "data": {
            "text/plain": [
              "{'colsample_bytree=1': 0.4,\n",
              " 'gamma': 0.3,\n",
              " 'lerning_rate': 0.1,\n",
              " 'max_depth': 12,\n",
              " 'min_child_weight': 1}"
            ]
          },
          "metadata": {
            "tags": []
          },
          "execution_count": 56
        }
      ]
    },
    {
      "cell_type": "code",
      "metadata": {
        "id": "_H3pGkk-_Qw5"
      },
      "source": [
        ""
      ],
      "execution_count": null,
      "outputs": []
    },
    {
      "cell_type": "markdown",
      "metadata": {
        "id": "034A_wYu_R-p"
      },
      "source": [
        "# Final Model"
      ]
    },
    {
      "cell_type": "code",
      "metadata": {
        "id": "JWz73knI_VJr"
      },
      "source": [
        "xgb2=XGBClassifier(base_score=0.5, booster='gbtree', colsample_bylevel=1,\n",
        "              colsample_bynode=1, colsample_bytree=1, colsample_bytree1=0.4,\n",
        "              gamma=0.3, learning_rate=0.1, lerning_rate=0.1, max_delta_step=0,\n",
        "              max_depth=12, min_child_weight=1, missing=None, n_estimators=100,\n",
        "              n_estimtor=100, n_jobs=1, nthread=None,\n",
        "              objective='binary:logistic', random_state=0, reg_alpha=1,\n",
        "              reg_lambda=1, scale_pos_weight=1, seed=None, silent=None,\n",
        "              subsample=1, verbosity=1)"
      ],
      "execution_count": null,
      "outputs": []
    },
    {
      "cell_type": "code",
      "metadata": {
        "colab": {
          "base_uri": "https://localhost:8080/"
        },
        "id": "wO3xWbiy_dAW",
        "outputId": "1a21cf28-6f42-4fea-b65d-9eb9fa1709c6"
      },
      "source": [
        "xgb2=create_model(xgb2)"
      ],
      "execution_count": null,
      "outputs": [
        {
          "output_type": "stream",
          "text": [
            "              precision    recall  f1-score   support\n",
            "\n",
            "           0       0.69      0.91      0.78      1595\n",
            "           1       0.86      0.59      0.70      1595\n",
            "\n",
            "    accuracy                           0.75      3190\n",
            "   macro avg       0.78      0.75      0.74      3190\n",
            "weighted avg       0.78      0.75      0.74      3190\n",
            "\n",
            "[[1447  148]\n",
            " [ 653  942]]\n"
          ],
          "name": "stdout"
        }
      ]
    },
    {
      "cell_type": "code",
      "metadata": {
        "colab": {
          "base_uri": "https://localhost:8080/"
        },
        "id": "HwCaQh3E_r0c",
        "outputId": "fe9616e5-afaa-4922-ed7f-479e507887c2"
      },
      "source": [
        "# Cross Validation \n",
        "from sklearn.model_selection import cross_val_score\n",
        "accuracy=cross_val_score(estimator=xgb2,X=x_train_sample,y=y_train_sample,cv=3)\n",
        "print(\"Accuracy is :\",accuracy.mean()*100)"
      ],
      "execution_count": null,
      "outputs": [
        {
          "output_type": "stream",
          "text": [
            "Accuracy is : 93.4359912125891\n"
          ],
          "name": "stdout"
        }
      ]
    }
  ]
}