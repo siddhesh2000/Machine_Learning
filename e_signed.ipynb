{
  "nbformat": 4,
  "nbformat_minor": 0,
  "metadata": {
    "colab": {
      "name": "e_signed.ipynb",
      "provenance": [],
      "collapsed_sections": [
        "upJO_D04SnDC",
        "zZnkGw3pTTAy",
        "RvdVW0rqaT73",
        "59ynJzDyeMxE"
      ],
      "toc_visible": true
    },
    "kernelspec": {
      "name": "python3",
      "display_name": "Python 3"
    },
    "language_info": {
      "name": "python"
    }
  },
  "cells": [
    {
      "cell_type": "markdown",
      "metadata": {
        "id": "jSBA83svShc-"
      },
      "source": [
        "# Introduction "
      ]
    },
    {
      "cell_type": "markdown",
      "metadata": {
        "id": "upJO_D04SnDC"
      },
      "source": [
        "# Import Basic Libraries & Load Dataset"
      ]
    },
    {
      "cell_type": "code",
      "metadata": {
        "id": "lHkzGQr7SyOM"
      },
      "source": [
        "import numpy as np\n",
        "import pandas as pd\n",
        "import matplotlib.pyplot as plt\n",
        "import seaborn as sns"
      ],
      "execution_count": null,
      "outputs": []
    },
    {
      "cell_type": "code",
      "metadata": {
        "id": "C_uQKFXnS7eY"
      },
      "source": [
        "df=pd.read_csv('/content/drive/MyDrive/Machine_Learning_Projects/financial_data.csv')"
      ],
      "execution_count": null,
      "outputs": []
    },
    {
      "cell_type": "code",
      "metadata": {
        "id": "-cUicsvNTPew"
      },
      "source": [
        ""
      ],
      "execution_count": null,
      "outputs": []
    },
    {
      "cell_type": "markdown",
      "metadata": {
        "id": "zZnkGw3pTTAy"
      },
      "source": [
        "# Data Preprocessing"
      ]
    },
    {
      "cell_type": "code",
      "metadata": {
        "colab": {
          "base_uri": "https://localhost:8080/",
          "height": 224
        },
        "id": "u4sQ0yU1TXEz",
        "outputId": "f52bd2f2-32c8-413e-caef-7bb0d282a8c9"
      },
      "source": [
        "# To get first five records\n",
        "df.head()"
      ],
      "execution_count": null,
      "outputs": [
        {
          "output_type": "execute_result",
          "data": {
            "text/html": [
              "<div>\n",
              "<style scoped>\n",
              "    .dataframe tbody tr th:only-of-type {\n",
              "        vertical-align: middle;\n",
              "    }\n",
              "\n",
              "    .dataframe tbody tr th {\n",
              "        vertical-align: top;\n",
              "    }\n",
              "\n",
              "    .dataframe thead th {\n",
              "        text-align: right;\n",
              "    }\n",
              "</style>\n",
              "<table border=\"1\" class=\"dataframe\">\n",
              "  <thead>\n",
              "    <tr style=\"text-align: right;\">\n",
              "      <th></th>\n",
              "      <th>entry_id</th>\n",
              "      <th>age</th>\n",
              "      <th>pay_schedule</th>\n",
              "      <th>home_owner</th>\n",
              "      <th>income</th>\n",
              "      <th>months_employed</th>\n",
              "      <th>years_employed</th>\n",
              "      <th>current_address_year</th>\n",
              "      <th>personal_account_m</th>\n",
              "      <th>personal_account_y</th>\n",
              "      <th>has_debt</th>\n",
              "      <th>amount_requested</th>\n",
              "      <th>risk_score</th>\n",
              "      <th>risk_score_2</th>\n",
              "      <th>risk_score_3</th>\n",
              "      <th>risk_score_4</th>\n",
              "      <th>risk_score_5</th>\n",
              "      <th>ext_quality_score</th>\n",
              "      <th>ext_quality_score_2</th>\n",
              "      <th>inquiries_last_month</th>\n",
              "      <th>e_signed</th>\n",
              "    </tr>\n",
              "  </thead>\n",
              "  <tbody>\n",
              "    <tr>\n",
              "      <th>0</th>\n",
              "      <td>7629673</td>\n",
              "      <td>40</td>\n",
              "      <td>bi-weekly</td>\n",
              "      <td>1</td>\n",
              "      <td>3135</td>\n",
              "      <td>0</td>\n",
              "      <td>3</td>\n",
              "      <td>3</td>\n",
              "      <td>6</td>\n",
              "      <td>2</td>\n",
              "      <td>1</td>\n",
              "      <td>550</td>\n",
              "      <td>36200</td>\n",
              "      <td>0.737398</td>\n",
              "      <td>0.903517</td>\n",
              "      <td>0.487712</td>\n",
              "      <td>0.515977</td>\n",
              "      <td>0.580918</td>\n",
              "      <td>0.380918</td>\n",
              "      <td>10</td>\n",
              "      <td>1</td>\n",
              "    </tr>\n",
              "    <tr>\n",
              "      <th>1</th>\n",
              "      <td>3560428</td>\n",
              "      <td>61</td>\n",
              "      <td>weekly</td>\n",
              "      <td>0</td>\n",
              "      <td>3180</td>\n",
              "      <td>0</td>\n",
              "      <td>6</td>\n",
              "      <td>3</td>\n",
              "      <td>2</td>\n",
              "      <td>7</td>\n",
              "      <td>1</td>\n",
              "      <td>600</td>\n",
              "      <td>30150</td>\n",
              "      <td>0.738510</td>\n",
              "      <td>0.881027</td>\n",
              "      <td>0.713423</td>\n",
              "      <td>0.826402</td>\n",
              "      <td>0.730720</td>\n",
              "      <td>0.630720</td>\n",
              "      <td>9</td>\n",
              "      <td>0</td>\n",
              "    </tr>\n",
              "    <tr>\n",
              "      <th>2</th>\n",
              "      <td>6934997</td>\n",
              "      <td>23</td>\n",
              "      <td>weekly</td>\n",
              "      <td>0</td>\n",
              "      <td>1540</td>\n",
              "      <td>6</td>\n",
              "      <td>0</td>\n",
              "      <td>0</td>\n",
              "      <td>7</td>\n",
              "      <td>1</td>\n",
              "      <td>1</td>\n",
              "      <td>450</td>\n",
              "      <td>34550</td>\n",
              "      <td>0.642993</td>\n",
              "      <td>0.766554</td>\n",
              "      <td>0.595018</td>\n",
              "      <td>0.762284</td>\n",
              "      <td>0.531712</td>\n",
              "      <td>0.531712</td>\n",
              "      <td>7</td>\n",
              "      <td>0</td>\n",
              "    </tr>\n",
              "    <tr>\n",
              "      <th>3</th>\n",
              "      <td>5682812</td>\n",
              "      <td>40</td>\n",
              "      <td>bi-weekly</td>\n",
              "      <td>0</td>\n",
              "      <td>5230</td>\n",
              "      <td>0</td>\n",
              "      <td>6</td>\n",
              "      <td>1</td>\n",
              "      <td>2</td>\n",
              "      <td>7</td>\n",
              "      <td>1</td>\n",
              "      <td>700</td>\n",
              "      <td>42150</td>\n",
              "      <td>0.665224</td>\n",
              "      <td>0.960832</td>\n",
              "      <td>0.767828</td>\n",
              "      <td>0.778831</td>\n",
              "      <td>0.792552</td>\n",
              "      <td>0.592552</td>\n",
              "      <td>8</td>\n",
              "      <td>1</td>\n",
              "    </tr>\n",
              "    <tr>\n",
              "      <th>4</th>\n",
              "      <td>5335819</td>\n",
              "      <td>33</td>\n",
              "      <td>semi-monthly</td>\n",
              "      <td>0</td>\n",
              "      <td>3590</td>\n",
              "      <td>0</td>\n",
              "      <td>5</td>\n",
              "      <td>2</td>\n",
              "      <td>2</td>\n",
              "      <td>8</td>\n",
              "      <td>1</td>\n",
              "      <td>1100</td>\n",
              "      <td>53850</td>\n",
              "      <td>0.617361</td>\n",
              "      <td>0.857560</td>\n",
              "      <td>0.613487</td>\n",
              "      <td>0.665523</td>\n",
              "      <td>0.744634</td>\n",
              "      <td>0.744634</td>\n",
              "      <td>12</td>\n",
              "      <td>0</td>\n",
              "    </tr>\n",
              "  </tbody>\n",
              "</table>\n",
              "</div>"
            ],
            "text/plain": [
              "   entry_id  age  ... inquiries_last_month  e_signed\n",
              "0   7629673   40  ...                   10         1\n",
              "1   3560428   61  ...                    9         0\n",
              "2   6934997   23  ...                    7         0\n",
              "3   5682812   40  ...                    8         1\n",
              "4   5335819   33  ...                   12         0\n",
              "\n",
              "[5 rows x 21 columns]"
            ]
          },
          "metadata": {
            "tags": []
          },
          "execution_count": 3
        }
      ]
    },
    {
      "cell_type": "code",
      "metadata": {
        "colab": {
          "base_uri": "https://localhost:8080/"
        },
        "id": "bwiF47eYThnU",
        "outputId": "6b304ec2-7602-45fa-9480-6fbf7acc150e"
      },
      "source": [
        "# To get number of Rows & Columns\n",
        "df.shape"
      ],
      "execution_count": null,
      "outputs": [
        {
          "output_type": "execute_result",
          "data": {
            "text/plain": [
              "(17908, 21)"
            ]
          },
          "metadata": {
            "tags": []
          },
          "execution_count": 4
        }
      ]
    },
    {
      "cell_type": "code",
      "metadata": {
        "colab": {
          "base_uri": "https://localhost:8080/"
        },
        "id": "4gEDjBKjTyjU",
        "outputId": "822e3809-0e2a-4c66-e938-c1cefd965977"
      },
      "source": [
        "# To get properties of dataset\n",
        "df.info()"
      ],
      "execution_count": null,
      "outputs": [
        {
          "output_type": "stream",
          "text": [
            "<class 'pandas.core.frame.DataFrame'>\n",
            "RangeIndex: 17908 entries, 0 to 17907\n",
            "Data columns (total 21 columns):\n",
            " #   Column                Non-Null Count  Dtype  \n",
            "---  ------                --------------  -----  \n",
            " 0   entry_id              17908 non-null  int64  \n",
            " 1   age                   17908 non-null  int64  \n",
            " 2   pay_schedule          17908 non-null  object \n",
            " 3   home_owner            17908 non-null  int64  \n",
            " 4   income                17908 non-null  int64  \n",
            " 5   months_employed       17908 non-null  int64  \n",
            " 6   years_employed        17908 non-null  int64  \n",
            " 7   current_address_year  17908 non-null  int64  \n",
            " 8   personal_account_m    17908 non-null  int64  \n",
            " 9   personal_account_y    17908 non-null  int64  \n",
            " 10  has_debt              17908 non-null  int64  \n",
            " 11  amount_requested      17908 non-null  int64  \n",
            " 12  risk_score            17908 non-null  int64  \n",
            " 13  risk_score_2          17908 non-null  float64\n",
            " 14  risk_score_3          17908 non-null  float64\n",
            " 15  risk_score_4          17908 non-null  float64\n",
            " 16  risk_score_5          17908 non-null  float64\n",
            " 17  ext_quality_score     17908 non-null  float64\n",
            " 18  ext_quality_score_2   17908 non-null  float64\n",
            " 19  inquiries_last_month  17908 non-null  int64  \n",
            " 20  e_signed              17908 non-null  int64  \n",
            "dtypes: float64(6), int64(14), object(1)\n",
            "memory usage: 2.9+ MB\n"
          ],
          "name": "stdout"
        }
      ]
    },
    {
      "cell_type": "code",
      "metadata": {
        "colab": {
          "base_uri": "https://localhost:8080/",
          "height": 421
        },
        "id": "Ste4Gc-bT4l6",
        "outputId": "f4c85ac3-2c47-413b-bbad-3294537e585e"
      },
      "source": [
        "# Visulization of null values by using Heatmap\n",
        "plt.figure(figsize=(15,5))\n",
        "sns.heatmap(df.isnull())\n",
        "plt.show()"
      ],
      "execution_count": null,
      "outputs": [
        {
          "output_type": "display_data",
          "data": {
            "image/png": "[encoded data removed]",
            "text/plain": [
              "<Figure size 1080x360 with 2 Axes>"
            ]
          },
          "metadata": {
            "tags": [],
            "needs_background": "light"
          }
        }
      ]
    },
    {
      "cell_type": "code",
      "metadata": {
        "colab": {
          "base_uri": "https://localhost:8080/"
        },
        "id": "4OSXT50pUK2y",
        "outputId": "2109e7e3-2e27-466b-d60b-d74624948515"
      },
      "source": [
        "# Null values in %\n",
        "df.isnull().sum()/df.shape[0]*100"
      ],
      "execution_count": null,
      "outputs": [
        {
          "output_type": "execute_result",
          "data": {
            "text/plain": [
              "entry_id                0.0\n",
              "age                     0.0\n",
              "pay_schedule            0.0\n",
              "home_owner              0.0\n",
              "income                  0.0\n",
              "months_employed         0.0\n",
              "years_employed          0.0\n",
              "current_address_year    0.0\n",
              "personal_account_m      0.0\n",
              "personal_account_y      0.0\n",
              "has_debt                0.0\n",
              "amount_requested        0.0\n",
              "risk_score              0.0\n",
              "risk_score_2            0.0\n",
              "risk_score_3            0.0\n",
              "risk_score_4            0.0\n",
              "risk_score_5            0.0\n",
              "ext_quality_score       0.0\n",
              "ext_quality_score_2     0.0\n",
              "inquiries_last_month    0.0\n",
              "e_signed                0.0\n",
              "dtype: float64"
            ]
          },
          "metadata": {
            "tags": []
          },
          "execution_count": 7
        }
      ]
    },
    {
      "cell_type": "code",
      "metadata": {
        "id": "LQ_0pQpRUVbO"
      },
      "source": [
        "# Machine only knows numerical figures.\n",
        "# In this dataset we have categorical(\"strings\") values also.\n",
        "# so we need to convert them into numerical values.\n",
        "# For convertion form categorical values to Numerical values we need to have segrigate such values and put into \n",
        "# diffrent diffrent data frames.\n",
        "df_cat=df.select_dtypes('object') \n",
        "df_num=df.select_dtypes(['int64','float64']) "
      ],
      "execution_count": null,
      "outputs": []
    },
    {
      "cell_type": "code",
      "metadata": {
        "id": "9c-IxBV-Vd5a"
      },
      "source": [
        "# Convertion of categorical values to Numerical values.\n",
        "# we have two methods for such process:\n",
        "# 1] LabelEncoder\n",
        "# 2] One Hot Encoder\n",
        "# Here we will used LabelEncoder\n",
        "from sklearn.preprocessing import LabelEncoder\n",
        "import warnings\n",
        "warnings.filterwarnings('ignore')\n",
        "le=LabelEncoder()\n",
        "for col in df_cat:\n",
        "  df_cat[col]=le.fit_transform(df_cat[col])"
      ],
      "execution_count": null,
      "outputs": []
    },
    {
      "cell_type": "code",
      "metadata": {
        "colab": {
          "base_uri": "https://localhost:8080/"
        },
        "id": "-9r2Px2GWfZv",
        "outputId": "c32abafe-42e6-4bb8-9a53-37c67d6dc2de"
      },
      "source": [
        "# check LabelEncoder method applicable or not\n",
        "df_cat.info()"
      ],
      "execution_count": null,
      "outputs": [
        {
          "output_type": "stream",
          "text": [
            "<class 'pandas.core.frame.DataFrame'>\n",
            "RangeIndex: 17908 entries, 0 to 17907\n",
            "Data columns (total 1 columns):\n",
            " #   Column        Non-Null Count  Dtype\n",
            "---  ------        --------------  -----\n",
            " 0   pay_schedule  17908 non-null  int64\n",
            "dtypes: int64(1)\n",
            "memory usage: 140.0 KB\n"
          ],
          "name": "stdout"
        }
      ]
    },
    {
      "cell_type": "code",
      "metadata": {
        "id": "WQ0i_sAMXEol"
      },
      "source": [
        "# Crete new data frame by concating categorical & numerical dataframe\n",
        "new_df=pd.concat([df_num,df_cat],axis=1)"
      ],
      "execution_count": null,
      "outputs": []
    },
    {
      "cell_type": "code",
      "metadata": {
        "colab": {
          "base_uri": "https://localhost:8080/",
          "height": 224
        },
        "id": "MtgRClmHX7Yw",
        "outputId": "8d8e409d-6abd-4d95-f8b6-8ffcaf99a4b2"
      },
      "source": [
        "# Check new data frame\n",
        "new_df.head()"
      ],
      "execution_count": null,
      "outputs": [
        {
          "output_type": "execute_result",
          "data": {
            "text/html": [
              "<div>\n",
              "<style scoped>\n",
              "    .dataframe tbody tr th:only-of-type {\n",
              "        vertical-align: middle;\n",
              "    }\n",
              "\n",
              "    .dataframe tbody tr th {\n",
              "        vertical-align: top;\n",
              "    }\n",
              "\n",
              "    .dataframe thead th {\n",
              "        text-align: right;\n",
              "    }\n",
              "</style>\n",
              "<table border=\"1\" class=\"dataframe\">\n",
              "  <thead>\n",
              "    <tr style=\"text-align: right;\">\n",
              "      <th></th>\n",
              "      <th>entry_id</th>\n",
              "      <th>age</th>\n",
              "      <th>home_owner</th>\n",
              "      <th>income</th>\n",
              "      <th>months_employed</th>\n",
              "      <th>years_employed</th>\n",
              "      <th>current_address_year</th>\n",
              "      <th>personal_account_m</th>\n",
              "      <th>personal_account_y</th>\n",
              "      <th>has_debt</th>\n",
              "      <th>amount_requested</th>\n",
              "      <th>risk_score</th>\n",
              "      <th>risk_score_2</th>\n",
              "      <th>risk_score_3</th>\n",
              "      <th>risk_score_4</th>\n",
              "      <th>risk_score_5</th>\n",
              "      <th>ext_quality_score</th>\n",
              "      <th>ext_quality_score_2</th>\n",
              "      <th>inquiries_last_month</th>\n",
              "      <th>e_signed</th>\n",
              "      <th>pay_schedule</th>\n",
              "    </tr>\n",
              "  </thead>\n",
              "  <tbody>\n",
              "    <tr>\n",
              "      <th>0</th>\n",
              "      <td>7629673</td>\n",
              "      <td>40</td>\n",
              "      <td>1</td>\n",
              "      <td>3135</td>\n",
              "      <td>0</td>\n",
              "      <td>3</td>\n",
              "      <td>3</td>\n",
              "      <td>6</td>\n",
              "      <td>2</td>\n",
              "      <td>1</td>\n",
              "      <td>550</td>\n",
              "      <td>36200</td>\n",
              "      <td>0.737398</td>\n",
              "      <td>0.903517</td>\n",
              "      <td>0.487712</td>\n",
              "      <td>0.515977</td>\n",
              "      <td>0.580918</td>\n",
              "      <td>0.380918</td>\n",
              "      <td>10</td>\n",
              "      <td>1</td>\n",
              "      <td>0</td>\n",
              "    </tr>\n",
              "    <tr>\n",
              "      <th>1</th>\n",
              "      <td>3560428</td>\n",
              "      <td>61</td>\n",
              "      <td>0</td>\n",
              "      <td>3180</td>\n",
              "      <td>0</td>\n",
              "      <td>6</td>\n",
              "      <td>3</td>\n",
              "      <td>2</td>\n",
              "      <td>7</td>\n",
              "      <td>1</td>\n",
              "      <td>600</td>\n",
              "      <td>30150</td>\n",
              "      <td>0.738510</td>\n",
              "      <td>0.881027</td>\n",
              "      <td>0.713423</td>\n",
              "      <td>0.826402</td>\n",
              "      <td>0.730720</td>\n",
              "      <td>0.630720</td>\n",
              "      <td>9</td>\n",
              "      <td>0</td>\n",
              "      <td>3</td>\n",
              "    </tr>\n",
              "    <tr>\n",
              "      <th>2</th>\n",
              "      <td>6934997</td>\n",
              "      <td>23</td>\n",
              "      <td>0</td>\n",
              "      <td>1540</td>\n",
              "      <td>6</td>\n",
              "      <td>0</td>\n",
              "      <td>0</td>\n",
              "      <td>7</td>\n",
              "      <td>1</td>\n",
              "      <td>1</td>\n",
              "      <td>450</td>\n",
              "      <td>34550</td>\n",
              "      <td>0.642993</td>\n",
              "      <td>0.766554</td>\n",
              "      <td>0.595018</td>\n",
              "      <td>0.762284</td>\n",
              "      <td>0.531712</td>\n",
              "      <td>0.531712</td>\n",
              "      <td>7</td>\n",
              "      <td>0</td>\n",
              "      <td>3</td>\n",
              "    </tr>\n",
              "    <tr>\n",
              "      <th>3</th>\n",
              "      <td>5682812</td>\n",
              "      <td>40</td>\n",
              "      <td>0</td>\n",
              "      <td>5230</td>\n",
              "      <td>0</td>\n",
              "      <td>6</td>\n",
              "      <td>1</td>\n",
              "      <td>2</td>\n",
              "      <td>7</td>\n",
              "      <td>1</td>\n",
              "      <td>700</td>\n",
              "      <td>42150</td>\n",
              "      <td>0.665224</td>\n",
              "      <td>0.960832</td>\n",
              "      <td>0.767828</td>\n",
              "      <td>0.778831</td>\n",
              "      <td>0.792552</td>\n",
              "      <td>0.592552</td>\n",
              "      <td>8</td>\n",
              "      <td>1</td>\n",
              "      <td>0</td>\n",
              "    </tr>\n",
              "    <tr>\n",
              "      <th>4</th>\n",
              "      <td>5335819</td>\n",
              "      <td>33</td>\n",
              "      <td>0</td>\n",
              "      <td>3590</td>\n",
              "      <td>0</td>\n",
              "      <td>5</td>\n",
              "      <td>2</td>\n",
              "      <td>2</td>\n",
              "      <td>8</td>\n",
              "      <td>1</td>\n",
              "      <td>1100</td>\n",
              "      <td>53850</td>\n",
              "      <td>0.617361</td>\n",
              "      <td>0.857560</td>\n",
              "      <td>0.613487</td>\n",
              "      <td>0.665523</td>\n",
              "      <td>0.744634</td>\n",
              "      <td>0.744634</td>\n",
              "      <td>12</td>\n",
              "      <td>0</td>\n",
              "      <td>2</td>\n",
              "    </tr>\n",
              "  </tbody>\n",
              "</table>\n",
              "</div>"
            ],
            "text/plain": [
              "   entry_id  age  home_owner  ...  inquiries_last_month  e_signed  pay_schedule\n",
              "0   7629673   40           1  ...                    10         1             0\n",
              "1   3560428   61           0  ...                     9         0             3\n",
              "2   6934997   23           0  ...                     7         0             3\n",
              "3   5682812   40           0  ...                     8         1             0\n",
              "4   5335819   33           0  ...                    12         0             2\n",
              "\n",
              "[5 rows x 21 columns]"
            ]
          },
          "metadata": {
            "tags": []
          },
          "execution_count": 12
        }
      ]
    },
    {
      "cell_type": "code",
      "metadata": {
        "id": "ogwyGgb-YCVS"
      },
      "source": [
        "# Drop unwanted Column\n",
        "new_df.drop('entry_id',axis=1,inplace=True) "
      ],
      "execution_count": null,
      "outputs": []
    },
    {
      "cell_type": "code",
      "metadata": {
        "colab": {
          "base_uri": "https://localhost:8080/",
          "height": 224
        },
        "id": "nQPgtVbxYivN",
        "outputId": "e42499eb-b9e4-4ee7-cf9e-2889365290a6"
      },
      "source": [
        "# check Unwanted column drop or not\n",
        "new_df.head()"
      ],
      "execution_count": null,
      "outputs": [
        {
          "output_type": "execute_result",
          "data": {
            "text/html": [
              "<div>\n",
              "<style scoped>\n",
              "    .dataframe tbody tr th:only-of-type {\n",
              "        vertical-align: middle;\n",
              "    }\n",
              "\n",
              "    .dataframe tbody tr th {\n",
              "        vertical-align: top;\n",
              "    }\n",
              "\n",
              "    .dataframe thead th {\n",
              "        text-align: right;\n",
              "    }\n",
              "</style>\n",
              "<table border=\"1\" class=\"dataframe\">\n",
              "  <thead>\n",
              "    <tr style=\"text-align: right;\">\n",
              "      <th></th>\n",
              "      <th>age</th>\n",
              "      <th>home_owner</th>\n",
              "      <th>income</th>\n",
              "      <th>months_employed</th>\n",
              "      <th>years_employed</th>\n",
              "      <th>current_address_year</th>\n",
              "      <th>personal_account_m</th>\n",
              "      <th>personal_account_y</th>\n",
              "      <th>has_debt</th>\n",
              "      <th>amount_requested</th>\n",
              "      <th>risk_score</th>\n",
              "      <th>risk_score_2</th>\n",
              "      <th>risk_score_3</th>\n",
              "      <th>risk_score_4</th>\n",
              "      <th>risk_score_5</th>\n",
              "      <th>ext_quality_score</th>\n",
              "      <th>ext_quality_score_2</th>\n",
              "      <th>inquiries_last_month</th>\n",
              "      <th>e_signed</th>\n",
              "      <th>pay_schedule</th>\n",
              "    </tr>\n",
              "  </thead>\n",
              "  <tbody>\n",
              "    <tr>\n",
              "      <th>0</th>\n",
              "      <td>40</td>\n",
              "      <td>1</td>\n",
              "      <td>3135</td>\n",
              "      <td>0</td>\n",
              "      <td>3</td>\n",
              "      <td>3</td>\n",
              "      <td>6</td>\n",
              "      <td>2</td>\n",
              "      <td>1</td>\n",
              "      <td>550</td>\n",
              "      <td>36200</td>\n",
              "      <td>0.737398</td>\n",
              "      <td>0.903517</td>\n",
              "      <td>0.487712</td>\n",
              "      <td>0.515977</td>\n",
              "      <td>0.580918</td>\n",
              "      <td>0.380918</td>\n",
              "      <td>10</td>\n",
              "      <td>1</td>\n",
              "      <td>0</td>\n",
              "    </tr>\n",
              "    <tr>\n",
              "      <th>1</th>\n",
              "      <td>61</td>\n",
              "      <td>0</td>\n",
              "      <td>3180</td>\n",
              "      <td>0</td>\n",
              "      <td>6</td>\n",
              "      <td>3</td>\n",
              "      <td>2</td>\n",
              "      <td>7</td>\n",
              "      <td>1</td>\n",
              "      <td>600</td>\n",
              "      <td>30150</td>\n",
              "      <td>0.738510</td>\n",
              "      <td>0.881027</td>\n",
              "      <td>0.713423</td>\n",
              "      <td>0.826402</td>\n",
              "      <td>0.730720</td>\n",
              "      <td>0.630720</td>\n",
              "      <td>9</td>\n",
              "      <td>0</td>\n",
              "      <td>3</td>\n",
              "    </tr>\n",
              "    <tr>\n",
              "      <th>2</th>\n",
              "      <td>23</td>\n",
              "      <td>0</td>\n",
              "      <td>1540</td>\n",
              "      <td>6</td>\n",
              "      <td>0</td>\n",
              "      <td>0</td>\n",
              "      <td>7</td>\n",
              "      <td>1</td>\n",
              "      <td>1</td>\n",
              "      <td>450</td>\n",
              "      <td>34550</td>\n",
              "      <td>0.642993</td>\n",
              "      <td>0.766554</td>\n",
              "      <td>0.595018</td>\n",
              "      <td>0.762284</td>\n",
              "      <td>0.531712</td>\n",
              "      <td>0.531712</td>\n",
              "      <td>7</td>\n",
              "      <td>0</td>\n",
              "      <td>3</td>\n",
              "    </tr>\n",
              "    <tr>\n",
              "      <th>3</th>\n",
              "      <td>40</td>\n",
              "      <td>0</td>\n",
              "      <td>5230</td>\n",
              "      <td>0</td>\n",
              "      <td>6</td>\n",
              "      <td>1</td>\n",
              "      <td>2</td>\n",
              "      <td>7</td>\n",
              "      <td>1</td>\n",
              "      <td>700</td>\n",
              "      <td>42150</td>\n",
              "      <td>0.665224</td>\n",
              "      <td>0.960832</td>\n",
              "      <td>0.767828</td>\n",
              "      <td>0.778831</td>\n",
              "      <td>0.792552</td>\n",
              "      <td>0.592552</td>\n",
              "      <td>8</td>\n",
              "      <td>1</td>\n",
              "      <td>0</td>\n",
              "    </tr>\n",
              "    <tr>\n",
              "      <th>4</th>\n",
              "      <td>33</td>\n",
              "      <td>0</td>\n",
              "      <td>3590</td>\n",
              "      <td>0</td>\n",
              "      <td>5</td>\n",
              "      <td>2</td>\n",
              "      <td>2</td>\n",
              "      <td>8</td>\n",
              "      <td>1</td>\n",
              "      <td>1100</td>\n",
              "      <td>53850</td>\n",
              "      <td>0.617361</td>\n",
              "      <td>0.857560</td>\n",
              "      <td>0.613487</td>\n",
              "      <td>0.665523</td>\n",
              "      <td>0.744634</td>\n",
              "      <td>0.744634</td>\n",
              "      <td>12</td>\n",
              "      <td>0</td>\n",
              "      <td>2</td>\n",
              "    </tr>\n",
              "  </tbody>\n",
              "</table>\n",
              "</div>"
            ],
            "text/plain": [
              "   age  home_owner  income  ...  inquiries_last_month  e_signed  pay_schedule\n",
              "0   40           1    3135  ...                    10         1             0\n",
              "1   61           0    3180  ...                     9         0             3\n",
              "2   23           0    1540  ...                     7         0             3\n",
              "3   40           0    5230  ...                     8         1             0\n",
              "4   33           0    3590  ...                    12         0             2\n",
              "\n",
              "[5 rows x 20 columns]"
            ]
          },
          "metadata": {
            "tags": []
          },
          "execution_count": 14
        }
      ]
    },
    {
      "cell_type": "code",
      "metadata": {
        "id": "l_IN4iTlYqOP"
      },
      "source": [
        ""
      ],
      "execution_count": null,
      "outputs": []
    },
    {
      "cell_type": "markdown",
      "metadata": {
        "id": "LUVGGpiFYwcE"
      },
      "source": [
        "# Split data into X & Y"
      ]
    },
    {
      "cell_type": "code",
      "metadata": {
        "id": "yIDgASBCY5Ee"
      },
      "source": [
        "x=new_df.drop('e_signed',axis=1)\n",
        "y=new_df['e_signed']"
      ],
      "execution_count": null,
      "outputs": []
    },
    {
      "cell_type": "markdown",
      "metadata": {
        "id": "_BQXH77XZIjL"
      },
      "source": [
        "# Divide data for train(80%) & Test(20%)\n",
        "\n"
      ]
    },
    {
      "cell_type": "code",
      "metadata": {
        "id": "ihial73KZd1a"
      },
      "source": [
        "from sklearn.model_selection import train_test_split"
      ],
      "execution_count": null,
      "outputs": []
    },
    {
      "cell_type": "code",
      "metadata": {
        "id": "BXBJpKdbaA5L"
      },
      "source": [
        "x_train,x_test,y_train,y_test=train_test_split(x,y,random_state=0,test_size=0.2)"
      ],
      "execution_count": null,
      "outputs": []
    },
    {
      "cell_type": "code",
      "metadata": {
        "id": "XLh1zyzsaRrc"
      },
      "source": [
        ""
      ],
      "execution_count": null,
      "outputs": []
    },
    {
      "cell_type": "markdown",
      "metadata": {
        "id": "RvdVW0rqaT73"
      },
      "source": [
        "# Scalling input data\n"
      ]
    },
    {
      "cell_type": "code",
      "metadata": {
        "id": "b6-LzzoXaZLj"
      },
      "source": [
        "# There are two types of Scalling of data:\n",
        "# 1] MinMax Scaller\n",
        "# 2] Standard Scaller\n",
        "# We will apply Standard Scaler to Scale our data set\n",
        "from sklearn.preprocessing import StandardScaler\n",
        "ss=StandardScaler()\n",
        "x_train=ss.fit_transform(x_train)\n",
        "x_test=ss.transform(x_test)"
      ],
      "execution_count": null,
      "outputs": []
    },
    {
      "cell_type": "code",
      "metadata": {
        "colab": {
          "base_uri": "https://localhost:8080/"
        },
        "id": "qzqczzt2atNz",
        "outputId": "d447c316-85eb-4850-aee7-310d42558b5d"
      },
      "source": [
        "x_train"
      ],
      "execution_count": null,
      "outputs": [
        {
          "output_type": "execute_result",
          "data": {
            "text/plain": [
              "array([[-0.00599126, -0.85634884, -0.24235846, ..., -1.05738616,\n",
              "         1.7844941 ,  1.68642348],\n",
              "       [-0.50989022, -0.85634884, -0.05259224, ..., -0.67208556,\n",
              "        -0.66336864,  0.06480367],\n",
              "       [-0.7618397 ,  1.16774842, -0.41214928, ..., -0.84155028,\n",
              "         1.2405246 , -0.74600624],\n",
              "       ...,\n",
              "       [ 0.16197506, -0.85634884, -0.46541699, ..., -1.44152051,\n",
              "         0.42457036, -0.74600624],\n",
              "       [ 1.08578982, -0.85634884, -0.69846323, ...,  0.84818866,\n",
              "        -0.66336864,  0.87561358],\n",
              "       [-0.7618397 , -0.85634884, -0.36554004, ..., -0.7402435 ,\n",
              "        -0.93535339, -0.74600624]])"
            ]
          },
          "metadata": {
            "tags": []
          },
          "execution_count": 76
        }
      ]
    },
    {
      "cell_type": "code",
      "metadata": {
        "colab": {
          "base_uri": "https://localhost:8080/"
        },
        "id": "m7k_74lFdlu2",
        "outputId": "23a1bed6-93b0-49e5-d230-02ea374b5677"
      },
      "source": [
        "x_test"
      ],
      "execution_count": null,
      "outputs": [
        {
          "output_type": "execute_result",
          "data": {
            "text/plain": [
              "array([[-1.01378918, -0.85634884, -0.24235846, ..., -0.39963265,\n",
              "         0.6965551 ,  0.87561358],\n",
              "       [-1.01378918, -0.85634884, -0.33557695, ..., -0.06371543,\n",
              "        -1.20733813, -0.74600624],\n",
              "       [ 0.24595822, -0.85634884, -0.59858627, ..., -0.50342934,\n",
              "        -0.39138389,  0.87561358],\n",
              "       ...,\n",
              "       [-0.08997442, -0.85634884, -0.41214928, ..., -0.62224425,\n",
              "        -0.93535339, -0.74600624],\n",
              "       [-0.25794074, -0.85634884, -0.25567539, ..., -0.77242642,\n",
              "        -0.66336864, -0.74600624],\n",
              "       [-0.08997442, -0.85634884, -0.72176785, ...,  0.75896658,\n",
              "        -0.11939914,  1.68642348]])"
            ]
          },
          "metadata": {
            "tags": []
          },
          "execution_count": 77
        }
      ]
    },
    {
      "cell_type": "code",
      "metadata": {
        "id": "xVM4ewZBdoP4"
      },
      "source": [
        ""
      ],
      "execution_count": null,
      "outputs": []
    },
    {
      "cell_type": "markdown",
      "metadata": {
        "id": "59ynJzDyeMxE"
      },
      "source": [
        "# Balancing of Output data"
      ]
    },
    {
      "cell_type": "code",
      "metadata": {
        "colab": {
          "base_uri": "https://localhost:8080/"
        },
        "id": "VaoWi5_zey81",
        "outputId": "cb781e54-7b2c-4507-9156-6bc621d15265"
      },
      "source": [
        "#  Visualiztion of Output by using countplot\n",
        "plt.figure(figsize=(15,5))\n",
        "sns.countplot(data=new_df,x='e_signed') \n",
        "plt.yticks(new_df['e_signed'].value_counts())\n",
        "plt.show()"
      ],
      "execution_count": null,
      "outputs": [
        {
          "output_type": "display_data",
          "data": {
            "image/png": "[encoded data removed]",
            "text/plain": [
              "<Figure size 1080x360 with 1 Axes>"
            ]
          },
          "metadata": {
            "tags": [],
            "needs_background": "light"
          }
        }
      ]
    },
    {
      "cell_type": "code",
      "metadata": {
        "colab": {
          "base_uri": "https://localhost:8080/"
        },
        "id": "NXrwkAGCfmPN",
        "outputId": "d4d11763-7c98-4758-82fb-6775a957ce0b"
      },
      "source": [
        "# Checking of output data\n",
        "pd.Series(y_train).value_counts()\n"
      ],
      "execution_count": null,
      "outputs": [
        {
          "output_type": "execute_result",
          "data": {
            "text/plain": [
              "1    7711\n",
              "0    6615\n",
              "Name: e_signed, dtype: int64"
            ]
          },
          "metadata": {
            "tags": []
          },
          "execution_count": 22
        }
      ]
    },
    {
      "cell_type": "code",
      "metadata": {
        "colab": {
          "base_uri": "https://localhost:8080/"
        },
        "id": "4AtEmS1jgMRk",
        "outputId": "4612697b-899d-47c9-89b4-5a6b0cf178e0"
      },
      "source": [
        "pd.Series(y_test).value_counts()"
      ],
      "execution_count": null,
      "outputs": [
        {
          "output_type": "execute_result",
          "data": {
            "text/plain": [
              "1    1928\n",
              "0    1654\n",
              "Name: e_signed, dtype: int64"
            ]
          },
          "metadata": {
            "tags": []
          },
          "execution_count": 23
        }
      ]
    },
    {
      "cell_type": "code",
      "metadata": {
        "id": "wV7THIRMgRaf"
      },
      "source": [
        "# by looking above two table its clearly indicating that output data is imbalance.\n",
        "# here we need to balance output data,for this we have two methods:\n",
        "# 1] Randomoversampling\n",
        "# 2] Randomundersampling\n",
        "# Here we will apply RandomOverSampling\n",
        "from imblearn.over_sampling import RandomOverSampler\n",
        "ros=RandomOverSampler()\n",
        "x_train_sample,y_train_sample=ros.fit_resample(x_train,y_train)\n",
        "x_test_sample,y_test_sample=ros.fit_resample(x_test,y_test)"
      ],
      "execution_count": null,
      "outputs": []
    },
    {
      "cell_type": "code",
      "metadata": {
        "colab": {
          "base_uri": "https://localhost:8080/"
        },
        "id": "G-R7XQSghcR4",
        "outputId": "8ce83154-2cd0-4028-f791-9c3fb7b2daa0"
      },
      "source": [
        "# Verifying sampling metod apply or not\n",
        "pd.Series(y_train_sample).value_counts()"
      ],
      "execution_count": null,
      "outputs": [
        {
          "output_type": "execute_result",
          "data": {
            "text/plain": [
              "1    7711\n",
              "0    7711\n",
              "dtype: int64"
            ]
          },
          "metadata": {
            "tags": []
          },
          "execution_count": 25
        }
      ]
    },
    {
      "cell_type": "code",
      "metadata": {
        "colab": {
          "base_uri": "https://localhost:8080/"
        },
        "id": "uN9OFnuminU7",
        "outputId": "24aa7824-d187-467a-a0b5-f6a4a1610745"
      },
      "source": [
        "pd.Series(y_test_sample).value_counts()"
      ],
      "execution_count": null,
      "outputs": [
        {
          "output_type": "execute_result",
          "data": {
            "text/plain": [
              "1    1928\n",
              "0    1928\n",
              "dtype: int64"
            ]
          },
          "metadata": {
            "tags": []
          },
          "execution_count": 26
        }
      ]
    },
    {
      "cell_type": "code",
      "metadata": {
        "id": "WGfS8CbeiqZ7"
      },
      "source": [
        ""
      ],
      "execution_count": null,
      "outputs": []
    },
    {
      "cell_type": "markdown",
      "metadata": {
        "id": "0OWf1IXsiwiW"
      },
      "source": [
        "# Training of Model"
      ]
    },
    {
      "cell_type": "code",
      "metadata": {
        "id": "XT6Jy01Wi0Qb"
      },
      "source": [
        "# Create user define function\n",
        "def create_model(model):\n",
        "  model.fit(x_train_sample,y_train_sample)\n",
        "  y_pred=model.predict(x_test_sample)\n",
        "  print(classification_report(y_test_sample,y_pred))\n",
        "  print(confusion_matrix(y_test_sample,y_pred))\n",
        "  return model"
      ],
      "execution_count": null,
      "outputs": []
    },
    {
      "cell_type": "markdown",
      "metadata": {
        "id": "b6cn8YA7SNLv"
      },
      "source": [
        "# 1] Logistic Regression"
      ]
    },
    {
      "cell_type": "code",
      "metadata": {
        "colab": {
          "base_uri": "https://localhost:8080/"
        },
        "id": "aLAU_ojdRRSo",
        "outputId": "164d2777-1bda-49f9-a4d8-124377c9bbe9"
      },
      "source": [
        "from sklearn.linear_model import LogisticRegression\n",
        "from sklearn.metrics import classification_report,confusion_matrix\n",
        "lr=LogisticRegression()\n",
        "lr=create_model(lr)"
      ],
      "execution_count": null,
      "outputs": [
        {
          "output_type": "stream",
          "text": [
            "              precision    recall  f1-score   support\n",
            "\n",
            "           0       0.57      0.57      0.57      1928\n",
            "           1       0.57      0.57      0.57      1928\n",
            "\n",
            "    accuracy                           0.57      3856\n",
            "   macro avg       0.57      0.57      0.57      3856\n",
            "weighted avg       0.57      0.57      0.57      3856\n",
            "\n",
            "[[1108  820]\n",
            " [ 824 1104]]\n"
          ],
          "name": "stdout"
        }
      ]
    },
    {
      "cell_type": "markdown",
      "metadata": {
        "id": "leHoBXYiSr08"
      },
      "source": [
        "# 2] Decision Tree Classifier"
      ]
    },
    {
      "cell_type": "code",
      "metadata": {
        "colab": {
          "base_uri": "https://localhost:8080/"
        },
        "id": "U2e1WLv9RRVh",
        "outputId": "e9dac836-d7b1-46b3-e76b-90c9dc5c502b"
      },
      "source": [
        "from sklearn.tree import DecisionTreeClassifier\n",
        "dt1=DecisionTreeClassifier(random_state=0)\n",
        "dt1=create_model(dt1)"
      ],
      "execution_count": null,
      "outputs": [
        {
          "output_type": "stream",
          "text": [
            "              precision    recall  f1-score   support\n",
            "\n",
            "           0       0.57      0.53      0.55      1928\n",
            "           1       0.56      0.60      0.58      1928\n",
            "\n",
            "    accuracy                           0.56      3856\n",
            "   macro avg       0.57      0.56      0.56      3856\n",
            "weighted avg       0.57      0.56      0.56      3856\n",
            "\n",
            "[[1027  901]\n",
            " [ 777 1151]]\n"
          ],
          "name": "stdout"
        }
      ]
    },
    {
      "cell_type": "code",
      "metadata": {
        "colab": {
          "base_uri": "https://localhost:8080/"
        },
        "id": "nVxe5XlMXREu",
        "outputId": "d5bf95d1-9fd9-475f-835f-ebbec7d75c01"
      },
      "source": [
        "dt2=DecisionTreeClassifier(max_depth=5)# purning technique\n",
        "dt2=create_model(dt2)"
      ],
      "execution_count": null,
      "outputs": [
        {
          "output_type": "stream",
          "text": [
            "              precision    recall  f1-score   support\n",
            "\n",
            "           0       0.59      0.69      0.64      1928\n",
            "           1       0.63      0.52      0.57      1928\n",
            "\n",
            "    accuracy                           0.61      3856\n",
            "   macro avg       0.61      0.61      0.60      3856\n",
            "weighted avg       0.61      0.61      0.60      3856\n",
            "\n",
            "[[1336  592]\n",
            " [ 929  999]]\n"
          ],
          "name": "stdout"
        }
      ]
    },
    {
      "cell_type": "code",
      "metadata": {
        "colab": {
          "base_uri": "https://localhost:8080/"
        },
        "id": "EBw8WBHEZLE6",
        "outputId": "a1b2f9c2-5e56-42ca-edf3-73190cff33f2"
      },
      "source": [
        "dt3=DecisionTreeClassifier(min_samples_leaf=60)# purning technique\n",
        "dt3=create_model(dt3)"
      ],
      "execution_count": null,
      "outputs": [
        {
          "output_type": "stream",
          "text": [
            "              precision    recall  f1-score   support\n",
            "\n",
            "           0       0.59      0.59      0.59      1928\n",
            "           1       0.59      0.59      0.59      1928\n",
            "\n",
            "    accuracy                           0.59      3856\n",
            "   macro avg       0.59      0.59      0.59      3856\n",
            "weighted avg       0.59      0.59      0.59      3856\n",
            "\n",
            "[[1147  781]\n",
            " [ 797 1131]]\n"
          ],
          "name": "stdout"
        }
      ]
    },
    {
      "cell_type": "code",
      "metadata": {
        "colab": {
          "base_uri": "https://localhost:8080/"
        },
        "id": "ebZ3BJ6gZio9",
        "outputId": "5732a580-0319-4dce-d264-66c04171bc09"
      },
      "source": [
        "dt4=DecisionTreeClassifier(min_samples_leaf=55,criterion='entropy')# purning technique with Entropy\n",
        "dt4=create_model(dt4)"
      ],
      "execution_count": null,
      "outputs": [
        {
          "output_type": "stream",
          "text": [
            "              precision    recall  f1-score   support\n",
            "\n",
            "           0       0.58      0.60      0.59      1928\n",
            "           1       0.58      0.56      0.57      1928\n",
            "\n",
            "    accuracy                           0.58      3856\n",
            "   macro avg       0.58      0.58      0.58      3856\n",
            "weighted avg       0.58      0.58      0.58      3856\n",
            "\n",
            "[[1151  777]\n",
            " [ 839 1089]]\n"
          ],
          "name": "stdout"
        }
      ]
    },
    {
      "cell_type": "code",
      "metadata": {
        "id": "esfLoQjuaOMF"
      },
      "source": [
        ""
      ],
      "execution_count": null,
      "outputs": []
    },
    {
      "cell_type": "markdown",
      "metadata": {
        "id": "PqjVLafWaWh_"
      },
      "source": [
        "# Ensembling Method"
      ]
    },
    {
      "cell_type": "markdown",
      "metadata": {
        "id": "G1u7qpO8bK_J"
      },
      "source": [
        "# 1] RandomForestClassifier"
      ]
    },
    {
      "cell_type": "code",
      "metadata": {
        "colab": {
          "base_uri": "https://localhost:8080/"
        },
        "id": "RzYMqZSBacnV",
        "outputId": "8861af5e-b2ef-40df-e502-d8c2e85d3414"
      },
      "source": [
        "from sklearn.ensemble import RandomForestClassifier\n",
        "rfc=RandomForestClassifier(max_features=10,random_state=0)\n",
        "rfc=create_model(rfc)\n"
      ],
      "execution_count": null,
      "outputs": [
        {
          "output_type": "stream",
          "text": [
            "              precision    recall  f1-score   support\n",
            "\n",
            "           0       0.64      0.61      0.62      1928\n",
            "           1       0.63      0.66      0.64      1928\n",
            "\n",
            "    accuracy                           0.63      3856\n",
            "   macro avg       0.63      0.63      0.63      3856\n",
            "weighted avg       0.63      0.63      0.63      3856\n",
            "\n",
            "[[1173  755]\n",
            " [ 655 1273]]\n"
          ],
          "name": "stdout"
        }
      ]
    },
    {
      "cell_type": "code",
      "metadata": {
        "id": "Hfrx7SYlbGoU"
      },
      "source": [
        ""
      ],
      "execution_count": null,
      "outputs": []
    },
    {
      "cell_type": "markdown",
      "metadata": {
        "id": "7ojsY11lcgNQ"
      },
      "source": [
        "# 2] XGBClassifier"
      ]
    },
    {
      "cell_type": "code",
      "metadata": {
        "colab": {
          "base_uri": "https://localhost:8080/"
        },
        "id": "Ps20oSXFcl2C",
        "outputId": "bb6e29ba-0c4a-4caf-ecce-b365979a1941"
      },
      "source": [
        "from xgboost import XGBClassifier\n",
        "xgb=XGBClassifier(n_estimators=50)\n",
        "xgb=create_model(xgb)\n"
      ],
      "execution_count": null,
      "outputs": [
        {
          "output_type": "stream",
          "text": [
            "              precision    recall  f1-score   support\n",
            "\n",
            "           0       0.62      0.68      0.65      1928\n",
            "           1       0.65      0.59      0.62      1928\n",
            "\n",
            "    accuracy                           0.64      3856\n",
            "   macro avg       0.64      0.64      0.63      3856\n",
            "weighted avg       0.64      0.64      0.63      3856\n",
            "\n",
            "[[1307  621]\n",
            " [ 786 1142]]\n"
          ],
          "name": "stdout"
        }
      ]
    },
    {
      "cell_type": "markdown",
      "metadata": {
        "id": "UR0lITx1dvjW"
      },
      "source": [
        "# HyperParameter Tuning\n",
        "#  A hyperparameter is a parameter whose value is used to control the learning process."
      ]
    },
    {
      "cell_type": "code",
      "metadata": {
        "id": "bMqUgNhmdQoa"
      },
      "source": [
        "from sklearn.model_selection import RandomizedSearchCV"
      ],
      "execution_count": null,
      "outputs": []
    },
    {
      "cell_type": "code",
      "metadata": {
        "id": "hOWusSMUeW-y"
      },
      "source": [
        "param={\n",
        "    'lerningrate':[0.05,0.10,0.15,0.20,0.25,0.30],\n",
        "    'max_depth':[2,3,4,5,6,8,10,12,13,15],\n",
        "    'min_child_weight':[2,3,5,8],\n",
        "    'gamma':[0.00,0.1,0.2,0.3,0.4,0.5],\n",
        "    'n_estimators':[100,200,300,400,500],\n",
        "    'subsample':[0.5,0.7,1.0],\n",
        "    'colsample':[0.3,0.4,0.5,0.6,0.7]\n",
        "}"
      ],
      "execution_count": null,
      "outputs": []
    },
    {
      "cell_type": "code",
      "metadata": {
        "colab": {
          "base_uri": "https://localhost:8080/"
        },
        "id": "bFnaVdcgf9v6",
        "outputId": "b719cc6a-adb3-4c58-9000-749410339352"
      },
      "source": [
        "rsc=RandomizedSearchCV(estimator=xgb,param_distributions=param,n_iter=5,n_jobs=-1,verbose=3)\n",
        "rsc.fit(x_train_sample,y_train_sample)"
      ],
      "execution_count": null,
      "outputs": [
        {
          "output_type": "stream",
          "text": [
            "Fitting 5 folds for each of 5 candidates, totalling 25 fits\n"
          ],
          "name": "stdout"
        },
        {
          "output_type": "stream",
          "text": [
            "[Parallel(n_jobs=-1)]: Using backend LokyBackend with 2 concurrent workers.\n",
            "[Parallel(n_jobs=-1)]: Done  25 out of  25 | elapsed:  3.1min finished\n"
          ],
          "name": "stderr"
        },
        {
          "output_type": "execute_result",
          "data": {
            "text/plain": [
              "RandomizedSearchCV(cv=None, error_score=nan,\n",
              "                   estimator=XGBClassifier(base_score=0.5, booster='gbtree',\n",
              "                                           colsample_bylevel=1,\n",
              "                                           colsample_bynode=1,\n",
              "                                           colsample_bytree=1, gamma=0,\n",
              "                                           learning_rate=0.1, max_delta_step=0,\n",
              "                                           max_depth=3, min_child_weight=1,\n",
              "                                           missing=None, n_estimators=50,\n",
              "                                           n_jobs=1, nthread=None,\n",
              "                                           objective='binary:logistic',\n",
              "                                           random_state=0, reg_alpha=0,\n",
              "                                           reg_lambda=1,...\n",
              "                   param_distributions={'colsample': [0.3, 0.4, 0.5, 0.6, 0.7],\n",
              "                                        'gamma': [0.0, 0.1, 0.2, 0.3, 0.4, 0.5],\n",
              "                                        'lerningrate': [0.05, 0.1, 0.15, 0.2,\n",
              "                                                        0.25, 0.3],\n",
              "                                        'max_depth': [2, 3, 4, 5, 6, 8, 10, 12,\n",
              "                                                      13, 15],\n",
              "                                        'min_child_weight': [2, 3, 5, 8],\n",
              "                                        'n_estimators': [100, 200, 300, 400,\n",
              "                                                         500],\n",
              "                                        'subsample': [0.5, 0.7, 1.0]},\n",
              "                   pre_dispatch='2*n_jobs', random_state=None, refit=True,\n",
              "                   return_train_score=False, scoring=None, verbose=3)"
            ]
          },
          "metadata": {
            "tags": []
          },
          "execution_count": 67
        }
      ]
    },
    {
      "cell_type": "code",
      "metadata": {
        "colab": {
          "base_uri": "https://localhost:8080/"
        },
        "id": "v_Dt-KzvgZMo",
        "outputId": "550a7230-e6da-4fec-89c9-8eb57cafbc48"
      },
      "source": [
        "rsc.best_estimator_"
      ],
      "execution_count": null,
      "outputs": [
        {
          "output_type": "execute_result",
          "data": {
            "text/plain": [
              "XGBClassifier(base_score=0.5, booster='gbtree', colsample=0.4,\n",
              "              colsample_bylevel=1, colsample_bynode=1, colsample_bytree=1,\n",
              "              gamma=0.0, learning_rate=0.1, lerningrate=0.25, max_delta_step=0,\n",
              "              max_depth=12, min_child_weight=2, missing=None, n_estimators=100,\n",
              "              n_jobs=1, nthread=None, objective='binary:logistic',\n",
              "              random_state=0, reg_alpha=0, reg_lambda=1, scale_pos_weight=1,\n",
              "              seed=None, silent=None, subsample=0.7, verbosity=1)"
            ]
          },
          "metadata": {
            "tags": []
          },
          "execution_count": 68
        }
      ]
    },
    {
      "cell_type": "code",
      "metadata": {
        "colab": {
          "base_uri": "https://localhost:8080/"
        },
        "id": "dQBcfR0yhRCg",
        "outputId": "7f55b4db-c787-478d-9db8-28ef3a23129e"
      },
      "source": [
        "rsc.best_params_"
      ],
      "execution_count": null,
      "outputs": [
        {
          "output_type": "execute_result",
          "data": {
            "text/plain": [
              "{'colsample': 0.4,\n",
              " 'gamma': 0.0,\n",
              " 'lerningrate': 0.25,\n",
              " 'max_depth': 12,\n",
              " 'min_child_weight': 2,\n",
              " 'n_estimators': 100,\n",
              " 'subsample': 0.7}"
            ]
          },
          "metadata": {
            "tags": []
          },
          "execution_count": 69
        }
      ]
    },
    {
      "cell_type": "code",
      "metadata": {
        "id": "L6zJFSPYhTdX"
      },
      "source": [
        ""
      ],
      "execution_count": null,
      "outputs": []
    },
    {
      "cell_type": "markdown",
      "metadata": {
        "id": "biEgmr9AhVAi"
      },
      "source": [
        "# Final Model"
      ]
    },
    {
      "cell_type": "code",
      "metadata": {
        "id": "sJN1QXJkhYgn"
      },
      "source": [
        "xgb1=XGBClassifier(base_score=0.5, booster='gbtree', colsample=0.4,\n",
        "              colsample_bylevel=1, colsample_bynode=1, colsample_bytree=1,\n",
        "              gamma=0.0, learning_rate=0.1, lerningrate=0.25, max_delta_step=0,\n",
        "              max_depth=12, min_child_weight=2, missing=None, n_estimators=100,\n",
        "              n_jobs=1, nthread=None, objective='binary:logistic',\n",
        "              random_state=0, reg_alpha=0, reg_lambda=1, scale_pos_weight=1,\n",
        "              seed=None, silent=None, subsample=0.7, verbosity=1)"
      ],
      "execution_count": null,
      "outputs": []
    },
    {
      "cell_type": "code",
      "metadata": {
        "colab": {
          "base_uri": "https://localhost:8080/"
        },
        "id": "V-XzZbJAhgth",
        "outputId": "28c62971-0e12-47ec-c33b-d8c200a86f50"
      },
      "source": [
        "xgb1=create_model(xgb1)"
      ],
      "execution_count": null,
      "outputs": [
        {
          "output_type": "stream",
          "text": [
            "              precision    recall  f1-score   support\n",
            "\n",
            "           0       0.64      0.58      0.61      1928\n",
            "           1       0.62      0.67      0.64      1928\n",
            "\n",
            "    accuracy                           0.63      3856\n",
            "   macro avg       0.63      0.63      0.63      3856\n",
            "weighted avg       0.63      0.63      0.63      3856\n",
            "\n",
            "[[1121  807]\n",
            " [ 635 1293]]\n"
          ],
          "name": "stdout"
        }
      ]
    },
    {
      "cell_type": "code",
      "metadata": {
        "id": "xjFY64djhkAh"
      },
      "source": [
        ""
      ],
      "execution_count": null,
      "outputs": []
    }
  ]
}